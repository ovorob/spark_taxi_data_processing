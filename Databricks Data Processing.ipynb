{
 "cells": [
  {
   "cell_type": "markdown",
   "metadata": {
    "application/vnd.databricks.v1+cell": {
     "cellMetadata": {},
     "inputWidgets": {},
     "nuid": "a3573750-e860-4cc2-9cac-68f2668cfb88",
     "showTitle": false,
     "tableResultSettingsMap": {},
     "title": ""
    }
   },
   "source": [
    "# Завдання 1: Налаштування середовища"
   ]
  },
  {
   "cell_type": "markdown",
   "metadata": {
    "application/vnd.databricks.v1+cell": {
     "cellMetadata": {},
     "inputWidgets": {},
     "nuid": "4135a768-a8a8-4dba-957c-e45084e84e6e",
     "showTitle": false,
     "tableResultSettingsMap": {},
     "title": ""
    }
   },
   "source": [
    "## Creating unity catalog with external s3"
   ]
  },
  {
   "cell_type": "code",
   "execution_count": 0,
   "metadata": {
    "application/vnd.databricks.v1+cell": {
     "cellMetadata": {
      "byteLimit": 2048000,
      "implicitDf": true,
      "rowLimit": 10000
     },
     "inputWidgets": {},
     "nuid": "e282cb23-45fe-44b0-8527-d982b634d53a",
     "showTitle": false,
     "tableResultSettingsMap": {},
     "title": ""
    }
   },
   "outputs": [],
   "source": [
    "%sql\n",
    "CREATE CATALOG IF NOT EXISTS 'ovorobiov_nyc_catalog' MANAGED LOCATION 's3://ovorobiov-hw/databricks/';"
   ]
  },
  {
   "cell_type": "markdown",
   "metadata": {
    "application/vnd.databricks.v1+cell": {
     "cellMetadata": {},
     "inputWidgets": {},
     "nuid": "a4377184-3340-41e2-8e27-da4acb245a43",
     "showTitle": false,
     "tableResultSettingsMap": {},
     "title": ""
    }
   },
   "source": [
    "## Giving access to deniskulemza1@gmail.com"
   ]
  },
  {
   "cell_type": "code",
   "execution_count": 0,
   "metadata": {
    "application/vnd.databricks.v1+cell": {
     "cellMetadata": {
      "byteLimit": 2048000,
      "implicitDf": true,
      "rowLimit": 10000
     },
     "inputWidgets": {},
     "nuid": "4f6df364-8e51-4f9e-91eb-d84ae7cf9ba8",
     "showTitle": false,
     "tableResultSettingsMap": {},
     "title": ""
    }
   },
   "outputs": [],
   "source": [
    "%sql\n",
    "GRANT ALL PRIVILEGES ON CATALOG `ovorobiov_nyc_catalog` TO `deniskulemza1@gmail.com`;"
   ]
  },
  {
   "cell_type": "markdown",
   "metadata": {
    "application/vnd.databricks.v1+cell": {
     "cellMetadata": {},
     "inputWidgets": {},
     "nuid": "21e0c81c-1b3e-4b51-b673-78948b23e3d7",
     "showTitle": false,
     "tableResultSettingsMap": {},
     "title": ""
    }
   },
   "source": [
    "## Creating schema - trips_schema in ovorobiov_nyc_catalog"
   ]
  },
  {
   "cell_type": "code",
   "execution_count": 0,
   "metadata": {
    "application/vnd.databricks.v1+cell": {
     "cellMetadata": {
      "byteLimit": 2048000,
      "implicitDf": true,
      "rowLimit": 10000
     },
     "inputWidgets": {},
     "nuid": "d4555597-eefc-4ad7-9d00-310035a63a53",
     "showTitle": false,
     "tableResultSettingsMap": {},
     "title": ""
    }
   },
   "outputs": [],
   "source": [
    "%sql\n",
    "CREATE SCHEMA IF NOT EXISTS ovorobiov_nyc_catalog.trips_schema;"
   ]
  },
  {
   "cell_type": "markdown",
   "metadata": {
    "application/vnd.databricks.v1+cell": {
     "cellMetadata": {},
     "inputWidgets": {},
     "nuid": "4ac9c7e6-d1dc-4377-bf9e-87d0730c89d6",
     "showTitle": false,
     "tableResultSettingsMap": {},
     "title": ""
    }
   },
   "source": [
    "#  Завдання 2: Імпорт, уніфікація та об’єднання"
   ]
  },
  {
   "cell_type": "code",
   "execution_count": 0,
   "metadata": {
    "application/vnd.databricks.v1+cell": {
     "cellMetadata": {
      "byteLimit": 2048000,
      "rowLimit": 10000
     },
     "inputWidgets": {},
     "nuid": "d8240bb7-1e82-400a-a2a4-29d9b4e2f275",
     "showTitle": false,
     "tableResultSettingsMap": {},
     "title": ""
    },
    "execution": {
     "iopub.execute_input": "2025-07-15T22:00:37.633336Z",
     "iopub.status.busy": "2025-07-15T22:00:37.633163Z",
     "iopub.status.idle": "2025-07-15T22:00:37.880214Z",
     "shell.execute_reply": "2025-07-15T22:00:37.879522Z",
     "shell.execute_reply.started": "2025-07-15T22:00:37.633311Z"
    },
    "tags": []
   },
   "outputs": [],
   "source": [
    "from pyspark.sql.types import StructType, StructField, StringType, IntegerType, DoubleType, TimestampType, LongType\n",
    "import pyspark.sql.functions as F\n",
    "import datetime\n",
    "\n",
    "date = datetime.date.today()\n",
    "BASE_MOUNT_PATH = \"/mnt/robot-dreams-source-mount\"\n",
    "\n",
    "GREEN_TAXI_PATH = f\"{BASE_MOUNT_PATH}/home-work-1-unified/nyc_taxi/green/\"\n",
    "YELLOW_TAXI_PATH = f\"{BASE_MOUNT_PATH}/home-work-1-unified/nyc_taxi/yellow/\"\n",
    "TAXI_ZONE_LOOKUP_PATH = f\"{BASE_MOUNT_PATH}/home-work-1-unified/nyc_taxi//taxi_zone_lookup.csv\""
   ]
  },
  {
   "cell_type": "markdown",
   "metadata": {
    "application/vnd.databricks.v1+cell": {
     "cellMetadata": {},
     "inputWidgets": {},
     "nuid": "017b9586-d79e-42d0-8f14-a80c0589ae41",
     "showTitle": false,
     "tableResultSettingsMap": {},
     "title": ""
    }
   },
   "source": [
    "## Define years that will be used for data frame generation taken from s3 structure"
   ]
  },
  {
   "cell_type": "code",
   "execution_count": 0,
   "metadata": {
    "application/vnd.databricks.v1+cell": {
     "cellMetadata": {
      "byteLimit": 2048000,
      "rowLimit": 10000
     },
     "inputWidgets": {},
     "nuid": "025800cc-9588-4528-ae6b-3ce1ee9ef6dc",
     "showTitle": false,
     "tableResultSettingsMap": {},
     "title": ""
    }
   },
   "outputs": [],
   "source": [
    "green_years = ['2014', '2015', '2016', '2017', '2018', '2019', '2020', '2021', '2022', '2023']\n",
    "yellow_years = ['2014', '2015', '2016', '2017', '2018', '2020', '2022', '2023']"
   ]
  },
  {
   "cell_type": "markdown",
   "metadata": {
    "application/vnd.databricks.v1+cell": {
     "cellMetadata": {},
     "inputWidgets": {},
     "nuid": "e8e169c6-61ac-4bee-bce4-8fa07b4047be",
     "showTitle": false,
     "tableResultSettingsMap": {},
     "title": ""
    }
   },
   "source": [
    "## Column names to be changed"
   ]
  },
  {
   "cell_type": "code",
   "execution_count": 0,
   "metadata": {
    "application/vnd.databricks.v1+cell": {
     "cellMetadata": {
      "byteLimit": 2048000,
      "rowLimit": 10000
     },
     "inputWidgets": {},
     "nuid": "dafa72aa-9af6-47cd-b4c4-0af92b1dbbd6",
     "showTitle": false,
     "tableResultSettingsMap": {},
     "title": ""
    }
   },
   "outputs": [],
   "source": [
    "\"\"\"\n",
    "Some datasets has different column names and with this mapping we will unify them\n",
    "\"\"\"\n",
    "\n",
    "column_mapping = {\n",
    "    \"tpep_pickup_datetime\": \"pickup_datetime\",\n",
    "    \"lpep_pickup_datetime\": \"pickup_datetime\",\n",
    "    \"tpep_dropoff_datetime\": \"dropoff_datetime\",\n",
    "    \"lpep_dropoff_datetime\": \"dropoff_datetime\",\n",
    "    \"Airport_fee\": \"airport_fee\"\n",
    "}"
   ]
  },
  {
   "cell_type": "markdown",
   "metadata": {
    "application/vnd.databricks.v1+cell": {
     "cellMetadata": {},
     "inputWidgets": {},
     "nuid": "f3d958b8-fa02-4092-88ae-9f08665ebfcc",
     "showTitle": false,
     "tableResultSettingsMap": {},
     "title": ""
    }
   },
   "source": [
    "## Loading taxi data using path, years and column_maping"
   ]
  },
  {
   "cell_type": "code",
   "execution_count": 0,
   "metadata": {
    "application/vnd.databricks.v1+cell": {
     "cellMetadata": {
      "byteLimit": 2048000,
      "rowLimit": 10000
     },
     "inputWidgets": {},
     "nuid": "d3d9e535-3386-4c73-845e-222863b7746b",
     "showTitle": false,
     "tableResultSettingsMap": {},
     "title": ""
    }
   },
   "outputs": [],
   "source": [
    "def loading_taxi_data(path, years, taxi_type, column_mapping=column_mapping):\n",
    "    \"\"\"\n",
    "    Loading taxi data from s3 bucket to spark dataframe.\n",
    "\n",
    "    Args:\n",
    "        path (str): path to taxi data in s3 bucket (path to the historycal folders e.g. ../home-work-1-unified/nyc_taxi/green/)\n",
    "        years (list): list of years to load data from\n",
    "        taxi_type (str): type of taxi data (yellow or green)\n",
    "    Returns:\n",
    "        taxi_df (DataFrame): taxi data in spark dataframe\n",
    "    \"\"\"\n",
    "    data_frames = []\n",
    "    for year in years:\n",
    "        df = spark.read.option('recursiveFileLookup', 'true').option('mergeSchema', 'true').parquet(path + year + \"/\")\n",
    "        df = unify_main_column_names(df, column_mapping)\n",
    "        df = df.withColumn(\"taxi_type\", F.lit(taxi_type))\n",
    "        data_frames.append(df)\n",
    "    \n",
    "    taxi_df = data_frames[0]\n",
    "    for df in data_frames[1:]:\n",
    "        taxi_df = taxi_df.unionByName(df)\n",
    "    return taxi_df"
   ]
  },
  {
   "cell_type": "markdown",
   "metadata": {
    "application/vnd.databricks.v1+cell": {
     "cellMetadata": {},
     "inputWidgets": {},
     "nuid": "de38da3b-12d8-4a86-94d8-5e9f42ca9a13",
     "showTitle": false,
     "tableResultSettingsMap": {},
     "title": ""
    }
   },
   "source": [
    "## Unifing column names"
   ]
  },
  {
   "cell_type": "code",
   "execution_count": 0,
   "metadata": {
    "application/vnd.databricks.v1+cell": {
     "cellMetadata": {
      "byteLimit": 2048000,
      "rowLimit": 10000
     },
     "inputWidgets": {},
     "nuid": "8c3532a5-cd98-432f-b5a4-cf1825894100",
     "showTitle": false,
     "tableResultSettingsMap": {},
     "title": ""
    }
   },
   "outputs": [],
   "source": [
    "def unify_main_column_names(df, column_mapping):\n",
    "    \"\"\"\n",
    "    Unify column names in taxi data.\n",
    "\n",
    "    Args:\n",
    "        df (DataFrame): taxi data in spark dataframe\n",
    "        collumn_mapping (dict): dictionary with column names mapping\n",
    "    Returns:\n",
    "        df (DataFrame): taxi data in spark dataframe with unified column names\n",
    "    \"\"\"\n",
    "    standard_columns = set(column_mapping.values())\n",
    "    # Rename columns using mapping\n",
    "    for col in df.columns:\n",
    "        if col in column_mapping:\n",
    "            df = df.withColumnRenamed(col, column_mapping[col])\n",
    "\n",
    "    # Add missing columns\n",
    "    for col in standard_columns:\n",
    "        if col not in df.columns:\n",
    "            df = df.withColumn(col, F.lit(None))\n",
    "    return df"
   ]
  },
  {
   "cell_type": "markdown",
   "metadata": {
    "application/vnd.databricks.v1+cell": {
     "cellMetadata": {},
     "inputWidgets": {},
     "nuid": "10745284-5181-4c7b-9a9c-f95c6443bad5",
     "showTitle": false,
     "tableResultSettingsMap": {},
     "title": ""
    }
   },
   "source": [
    "## Loading green taxi data"
   ]
  },
  {
   "cell_type": "code",
   "execution_count": 0,
   "metadata": {
    "application/vnd.databricks.v1+cell": {
     "cellMetadata": {
      "byteLimit": 2048000,
      "rowLimit": 10000
     },
     "inputWidgets": {},
     "nuid": "cf99a9ee-4731-40f5-af61-d68e75cf6c14",
     "showTitle": false,
     "tableResultSettingsMap": {},
     "title": ""
    }
   },
   "outputs": [],
   "source": [
    "green_taxi_df = loading_taxi_data(GREEN_TAXI_PATH, green_years, \"green\")"
   ]
  },
  {
   "cell_type": "markdown",
   "metadata": {
    "application/vnd.databricks.v1+cell": {
     "cellMetadata": {},
     "inputWidgets": {},
     "nuid": "5344ae16-8254-4655-9b60-6056664666b7",
     "showTitle": false,
     "tableResultSettingsMap": {},
     "title": ""
    }
   },
   "source": [
    "## Loading yellow taxi data"
   ]
  },
  {
   "cell_type": "code",
   "execution_count": 0,
   "metadata": {
    "application/vnd.databricks.v1+cell": {
     "cellMetadata": {
      "byteLimit": 2048000,
      "rowLimit": 10000
     },
     "inputWidgets": {},
     "nuid": "8cf2a720-7d0b-4009-a092-5ae1491f6c8a",
     "showTitle": false,
     "tableResultSettingsMap": {},
     "title": ""
    }
   },
   "outputs": [],
   "source": [
    "yellow_taxi_df = loading_taxi_data(YELLOW_TAXI_PATH, yellow_years, \"yellow\")"
   ]
  },
  {
   "cell_type": "markdown",
   "metadata": {
    "application/vnd.databricks.v1+cell": {
     "cellMetadata": {},
     "inputWidgets": {},
     "nuid": "999291b9-7078-4314-8fc3-ef1c86ad257f",
     "showTitle": false,
     "tableResultSettingsMap": {},
     "title": ""
    }
   },
   "source": [
    "## Create Zone Lookup DF"
   ]
  },
  {
   "cell_type": "code",
   "execution_count": 0,
   "metadata": {
    "application/vnd.databricks.v1+cell": {
     "cellMetadata": {
      "byteLimit": 2048000,
      "rowLimit": 10000
     },
     "inputWidgets": {},
     "nuid": "08620c0c-69ef-46f6-997c-77cd7b93ed68",
     "showTitle": false,
     "tableResultSettingsMap": {},
     "title": ""
    },
    "execution": {
     "iopub.execute_input": "2025-07-15T20:23:52.262334Z",
     "iopub.status.busy": "2025-07-15T20:23:52.262060Z",
     "iopub.status.idle": "2025-07-15T20:23:53.018011Z",
     "shell.execute_reply": "2025-07-15T20:23:53.017260Z",
     "shell.execute_reply.started": "2025-07-15T20:23:52.262300Z"
    },
    "tags": []
   },
   "outputs": [],
   "source": [
    "taxi_zone_lookup_df = spark.read.csv(TAXI_ZONE_LOOKUP_PATH, header=True) \\\n",
    "    .select(\n",
    "        F.col(\"LocationID\").cast(\"int\").alias(\"location_id\"),\n",
    "        F.col(\"Zone\").alias(\"zone\")\n",
    "    )"
   ]
  },
  {
   "cell_type": "markdown",
   "metadata": {
    "application/vnd.databricks.v1+cell": {
     "cellMetadata": {},
     "inputWidgets": {},
     "nuid": "b9487811-8b4d-4a92-95e6-477b870b6754",
     "showTitle": false,
     "tableResultSettingsMap": {},
     "title": ""
    },
    "execution": {
     "iopub.execute_input": "2025-07-13T20:01:00.281991Z",
     "iopub.status.busy": "2025-07-13T20:01:00.281494Z",
     "iopub.status.idle": "2025-07-13T20:01:00.508750Z",
     "shell.execute_reply": "2025-07-13T20:01:00.508391Z",
     "shell.execute_reply.started": "2025-07-13T20:01:00.281973Z"
    },
    "executionRoleArn": "arn:aws:iam::554739427960:role/service-role/AmazonEMRStudio_RuntimeRole_1752423199458",
    "tags": []
   },
   "source": [
    "## Identifying different columns in data frames "
   ]
  },
  {
   "cell_type": "code",
   "execution_count": 0,
   "metadata": {
    "application/vnd.databricks.v1+cell": {
     "cellMetadata": {
      "byteLimit": 2048000,
      "rowLimit": 10000
     },
     "inputWidgets": {},
     "nuid": "2a8dad75-655f-4e2f-836a-702b0e399945",
     "showTitle": false,
     "tableResultSettingsMap": {},
     "title": ""
    },
    "execution": {
     "iopub.execute_input": "2025-07-15T20:24:53.879677Z",
     "iopub.status.busy": "2025-07-15T20:24:53.879430Z",
     "iopub.status.idle": "2025-07-15T20:24:53.929726Z",
     "shell.execute_reply": "2025-07-15T20:24:53.921491Z",
     "shell.execute_reply.started": "2025-07-15T20:24:53.879649Z"
    },
    "tags": []
   },
   "outputs": [],
   "source": [
    "# Checking if schema is similar in green and yellow DF\n",
    "\n",
    "yellow_schema = sorted([str(entry) for entry in yellow_taxi_df.schema.jsonValue()['fields']])\n",
    "green_schem = sorted([str(entry) for entry in green_taxi_df.schema.jsonValue()['fields']])\n",
    "diff = set(green_schem).symmetric_difference(set(yellow_schema))\n",
    "diff_column_names = [eval(d)[\"name\"] for d in list(diff)]\n",
    "print(diff_column_names)"
   ]
  },
  {
   "cell_type": "markdown",
   "metadata": {
    "application/vnd.databricks.v1+cell": {
     "cellMetadata": {},
     "inputWidgets": {},
     "nuid": "3df22544-215c-4897-bbf0-195926f6f4b0",
     "showTitle": false,
     "tableResultSettingsMap": {},
     "title": ""
    },
    "execution": {
     "iopub.execute_input": "2025-07-13T20:29:59.355751Z",
     "iopub.status.busy": "2025-07-13T20:29:59.355437Z",
     "iopub.status.idle": "2025-07-13T20:30:00.840240Z",
     "shell.execute_reply": "2025-07-13T20:30:00.839874Z",
     "shell.execute_reply.started": "2025-07-13T20:29:59.355733Z"
    },
    "executionRoleArn": "arn:aws:iam::554739427960:role/service-role/AmazonEMRStudio_RuntimeRole_1752423199458",
    "tags": []
   },
   "source": [
    "## Union two data frames yellow_taxi_df and green_taxi_df"
   ]
  },
  {
   "cell_type": "code",
   "execution_count": 0,
   "metadata": {
    "application/vnd.databricks.v1+cell": {
     "cellMetadata": {
      "byteLimit": 2048000,
      "rowLimit": 10000
     },
     "inputWidgets": {},
     "nuid": "4be10167-680d-4911-8d30-9beb9164b104",
     "showTitle": false,
     "tableResultSettingsMap": {},
     "title": ""
    },
    "execution": {
     "iopub.execute_input": "2025-07-15T20:34:30.965104Z",
     "iopub.status.busy": "2025-07-15T20:34:30.964818Z",
     "iopub.status.idle": "2025-07-15T20:34:31.217259Z",
     "shell.execute_reply": "2025-07-15T20:34:31.216373Z",
     "shell.execute_reply.started": "2025-07-15T20:34:30.965073Z"
    },
    "tags": []
   },
   "outputs": [],
   "source": [
    "# Merging Yellow and Green DF into final DF\n",
    "\n",
    "raw_trips_df = yellow_taxi_df.unionByName(green_taxi_df)"
   ]
  },
  {
   "cell_type": "markdown",
   "metadata": {
    "application/vnd.databricks.v1+cell": {
     "cellMetadata": {},
     "inputWidgets": {},
     "nuid": "122bccf7-1c7e-4de1-bbba-fe29c4178096",
     "showTitle": false,
     "tableResultSettingsMap": {},
     "title": ""
    }
   },
   "source": [
    "## Filterout anomalies (trip_distance < 0.1, fare_amount < 2, duration < 1 min)"
   ]
  },
  {
   "cell_type": "code",
   "execution_count": 0,
   "metadata": {
    "application/vnd.databricks.v1+cell": {
     "cellMetadata": {
      "byteLimit": 2048000,
      "rowLimit": 10000
     },
     "inputWidgets": {},
     "nuid": "f2573c6d-6e9e-4b01-98f3-dec3fa1d6542",
     "showTitle": false,
     "tableResultSettingsMap": {},
     "title": ""
    },
    "execution": {
     "iopub.execute_input": "2025-07-15T20:38:36.692189Z",
     "iopub.status.busy": "2025-07-15T20:38:36.691927Z",
     "iopub.status.idle": "2025-07-15T20:40:08.228351Z",
     "shell.execute_reply": "2025-07-15T20:40:08.227446Z",
     "shell.execute_reply.started": "2025-07-15T20:38:36.692156Z"
    },
    "tags": []
   },
   "outputs": [],
   "source": [
    "filtered_trips_df = raw_trips_df.filter(F.col(\"trip_distance\") >= 0.1) \\\n",
    "                    .filter(F.col(\"fare_amount\") >= 2) \\\n",
    "                    .filter(F.col(\"pickup_datetime\").isNotNull()) \\\n",
    "                    .filter(F.col(\"dropoff_datetime\").isNotNull()) \\\n",
    "                    .filter((F.unix_timestamp(F.col(\"dropoff_datetime\")) - F.unix_timestamp(F.col(\"pickup_datetime\"))) >= 60)"
   ]
  },
  {
   "cell_type": "markdown",
   "metadata": {
    "application/vnd.databricks.v1+cell": {
     "cellMetadata": {},
     "inputWidgets": {},
     "nuid": "0e72bca1-e779-4d99-a758-25f4b0ba6f1d",
     "showTitle": false,
     "tableResultSettingsMap": {},
     "title": ""
    }
   },
   "source": [
    "## Adding pickup_hour, pickup_day_of_week and duration_min columns"
   ]
  },
  {
   "cell_type": "code",
   "execution_count": 0,
   "metadata": {
    "application/vnd.databricks.v1+cell": {
     "cellMetadata": {
      "byteLimit": 2048000,
      "rowLimit": 10000
     },
     "inputWidgets": {},
     "nuid": "bb01be50-3e26-490e-814c-6cd6f686086f",
     "showTitle": false,
     "tableResultSettingsMap": {},
     "title": ""
    },
    "execution": {
     "iopub.execute_input": "2025-07-15T20:40:41.465939Z",
     "iopub.status.busy": "2025-07-15T20:40:41.465699Z",
     "iopub.status.idle": "2025-07-15T20:40:41.712216Z",
     "shell.execute_reply": "2025-07-15T20:40:41.711496Z",
     "shell.execute_reply.started": "2025-07-15T20:40:41.465911Z"
    },
    "tags": []
   },
   "outputs": [],
   "source": [
    "# Define the mapping using create_map\n",
    "week_day_map = F.create_map([\n",
    "    F.lit(1), F.lit(\"Sunday\"),\n",
    "    F.lit(2), F.lit(\"Monday\"),\n",
    "    F.lit(3), F.lit(\"Tuesday\"),\n",
    "    F.lit(4), F.lit(\"Wednesday\"),\n",
    "    F.lit(5), F.lit(\"Thursday\"),\n",
    "    F.lit(6), F.lit(\"Friday\"),\n",
    "    F.lit(7), F.lit(\"Saturday\"),\n",
    "])\n",
    "\n",
    "filtered_trips_df = filtered_trips_df.withColumn(\"pickup_hour\", F.hour(\"pickup_datetime\")) \\\n",
    "                                     .withColumn(\"pickup_day_of_week\", week_day_map[F.dayofweek(\"pickup_datetime\")]) \\\n",
    "                                     .withColumn(\"duration_min\", (F.round(F.unix_timestamp(F.col(\"dropoff_datetime\")) - F.unix_timestamp(F.col(\"pickup_datetime\")))/60).cast(IntegerType()))\n",
    "\n"
   ]
  },
  {
   "cell_type": "markdown",
   "metadata": {
    "application/vnd.databricks.v1+cell": {
     "cellMetadata": {},
     "inputWidgets": {},
     "nuid": "edf010a2-d6a5-45cb-b87c-ba11c43c3dbe",
     "showTitle": false,
     "tableResultSettingsMap": {},
     "title": ""
    }
   },
   "source": [
    "## Join taxi_zone_lookup_df with filtered_trips_df and add pickup_zone and dropoff_zone columns"
   ]
  },
  {
   "cell_type": "code",
   "execution_count": 0,
   "metadata": {
    "application/vnd.databricks.v1+cell": {
     "cellMetadata": {
      "byteLimit": 2048000,
      "rowLimit": 10000
     },
     "inputWidgets": {},
     "nuid": "98dc48a7-9a6f-44c7-bd05-d398bfd9e9ad",
     "showTitle": false,
     "tableResultSettingsMap": {},
     "title": ""
    },
    "execution": {
     "iopub.execute_input": "2025-07-15T20:40:45.456779Z",
     "iopub.status.busy": "2025-07-15T20:40:45.456508Z",
     "iopub.status.idle": "2025-07-15T20:40:45.701355Z",
     "shell.execute_reply": "2025-07-15T20:40:45.700474Z",
     "shell.execute_reply.started": "2025-07-15T20:40:45.456744Z"
    },
    "tags": []
   },
   "outputs": [],
   "source": [
    "full_filtered_trips_df = filtered_trips_df.join(taxi_zone_lookup_df, filtered_trips_df[\"PULocationID\"] == taxi_zone_lookup_df.location_id, \"left\") \\\n",
    "                                            .withColumn(\"pickup_zone\", F.when(F.col(\"zone\").isNull(), \"Unknown\").otherwise(F.col(\"zone\"))).drop(F.col(\"zone\"), F.col(\"location_id\")) \\\n",
    "                                            .join(taxi_zone_lookup_df, filtered_trips_df[\"DOLocationID\"] == taxi_zone_lookup_df.location_id, \"left\") \\\n",
    "                                            .withColumn(\"dropoff_zone\", F.when(F.col(\"zone\").isNull(), \"Unknown\").otherwise(F.col(\"zone\"))).drop(F.col(\"zone\"), F.col(\"location_id\"))"
   ]
  },
  {
   "cell_type": "markdown",
   "metadata": {
    "application/vnd.databricks.v1+cell": {
     "cellMetadata": {},
     "inputWidgets": {},
     "nuid": "d2c367ae-3a69-4a1b-be96-02f0d62739ae",
     "showTitle": false,
     "tableResultSettingsMap": {},
     "title": ""
    }
   },
   "source": [
    "## Writing results into raw_trips delta lake"
   ]
  },
  {
   "cell_type": "code",
   "execution_count": 0,
   "metadata": {
    "application/vnd.databricks.v1+cell": {
     "cellMetadata": {
      "byteLimit": 2048000,
      "rowLimit": 10000
     },
     "inputWidgets": {},
     "nuid": "f6fb4275-93e6-4001-8bfc-599bf07c54e0",
     "showTitle": false,
     "tableResultSettingsMap": {},
     "title": ""
    }
   },
   "outputs": [],
   "source": [
    "full_filtered_trips_df.write \\\n",
    "    .format(\"delta\") \\\n",
    "    .mode(\"overwrite\") \\\n",
    "    .saveAsTable(\"ovorobiov_nyc_catalog.trips_schema.raw_trips\")"
   ]
  },
  {
   "cell_type": "markdown",
   "metadata": {
    "application/vnd.databricks.v1+cell": {
     "cellMetadata": {},
     "inputWidgets": {},
     "nuid": "da6e1589-b4de-4bcf-bbef-24eb04399cc5",
     "showTitle": false,
     "tableResultSettingsMap": {},
     "title": ""
    }
   },
   "source": [
    "# Завдання 3: Створення та агрегація фінального датафрейму zone_summary"
   ]
  },
  {
   "cell_type": "code",
   "execution_count": 0,
   "metadata": {
    "application/vnd.databricks.v1+cell": {
     "cellMetadata": {
      "byteLimit": 2048000,
      "rowLimit": 10000
     },
     "inputWidgets": {},
     "nuid": "63abd490-8891-43d5-9f49-d5efadfeb897",
     "showTitle": false,
     "tableResultSettingsMap": {},
     "title": ""
    }
   },
   "outputs": [],
   "source": [
    "delta_df = spark.table(\"ovorobiov_nyc_catalog.trips_schema.raw_trips\")"
   ]
  },
  {
   "cell_type": "markdown",
   "metadata": {
    "application/vnd.databricks.v1+cell": {
     "cellMetadata": {},
     "inputWidgets": {},
     "nuid": "c079b35f-c01f-4261-9d11-89c2d2ecb47d",
     "showTitle": false,
     "tableResultSettingsMap": {},
     "title": ""
    }
   },
   "source": [
    "## Base summary that includes total_trips, avg_trip_distance, avg_total_amount, avg_tip_amount, max_trip_distance, min_tip_amount"
   ]
  },
  {
   "cell_type": "code",
   "execution_count": 0,
   "metadata": {
    "application/vnd.databricks.v1+cell": {
     "cellMetadata": {
      "byteLimit": 2048000,
      "rowLimit": 10000
     },
     "inputWidgets": {},
     "nuid": "1059cd15-1cf9-4d29-9ec3-233a16f522ce",
     "showTitle": false,
     "tableResultSettingsMap": {},
     "title": ""
    },
    "execution": {
     "iopub.execute_input": "2025-07-15T21:26:24.844388Z",
     "iopub.status.busy": "2025-07-15T21:26:24.844130Z",
     "iopub.status.idle": "2025-07-15T21:26:25.090234Z",
     "shell.execute_reply": "2025-07-15T21:26:25.089417Z",
     "shell.execute_reply.started": "2025-07-15T21:26:24.844358Z"
    },
    "tags": []
   },
   "outputs": [],
   "source": [
    "base_summary = delta_df.groupBy(\"pickup_zone\").agg(\n",
    "                                    F.count(\"*\").alias(\"total_trips\"),\n",
    "                                    F.avg(\"trip_distance\").alias(\"avg_trip_distance\"),\n",
    "                                    F.avg(\"total_amount\").alias(\"avg_total_amount\"),\n",
    "                                    F.avg(\"tip_amount\").alias(\"avg_tip_amount\"),\n",
    "                                    F.max(\"trip_distance\").alias(\"max_trip_distance\"),\n",
    "                                    F.min(\"tip_amount\").alias(\"min_tip_amount\"),\n",
    "                                    F.sum(F.when(F.col(\"taxi_type\") == \"yellow\", 1).otherwise(0)).alias(\"yellow_count\"),\n",
    "                                    F.sum(F.when(F.col(\"taxi_type\") == \"green\", 1).otherwise(0)).alias(\"green_count\")\n",
    "                               )"
   ]
  },
  {
   "cell_type": "markdown",
   "metadata": {
    "application/vnd.databricks.v1+cell": {
     "cellMetadata": {},
     "inputWidgets": {},
     "nuid": "82cfc6a3-0fb0-4e65-a0be-006756dffbe9",
     "showTitle": false,
     "tableResultSettingsMap": {},
     "title": ""
    }
   },
   "source": [
    " ## Adding Yellow Share and Green Share and rounding the values"
   ]
  },
  {
   "cell_type": "code",
   "execution_count": 0,
   "metadata": {
    "application/vnd.databricks.v1+cell": {
     "cellMetadata": {
      "byteLimit": 2048000,
      "rowLimit": 10000
     },
     "inputWidgets": {},
     "nuid": "9f7dc610-89d0-4de2-b462-b41f2bd94673",
     "showTitle": false,
     "tableResultSettingsMap": {},
     "title": ""
    },
    "execution": {
     "iopub.execute_input": "2025-07-15T21:26:29.235322Z",
     "iopub.status.busy": "2025-07-15T21:26:29.234856Z",
     "iopub.status.idle": "2025-07-15T21:29:09.166526Z",
     "shell.execute_reply": "2025-07-15T21:29:09.165743Z",
     "shell.execute_reply.started": "2025-07-15T21:26:29.235282Z"
    },
    "tags": []
   },
   "outputs": [],
   "source": [
    "\n",
    "\n",
    "base_summary = base_summary.withColumn(\"yellow_share\", F.col(\"yellow_count\") / F.col(\"total_trips\")) \\\n",
    "                            .withColumn(\"green_share\", F.col(\"green_count\") / F.col(\"total_trips\")) \\\n",
    "                            .drop(\"yellow_count\", \"green_count\")\n",
    "\n",
    "final_summary = base_summary.select(\n",
    "                                \"pickup_zone\",\n",
    "                                \"total_trips\",\n",
    "                                F.round(\"avg_trip_distance\", 2).alias(\"avg_trip_distance\"),\n",
    "                                F.round(\"avg_total_amount\", 2).alias(\"avg_total_amount\"),\n",
    "                                F.round(\"avg_tip_amount\", 2).alias(\"avg_tip_amount\"),\n",
    "                                F.round(\"max_trip_distance\", 2).alias(\"max_trip_distance\"),\n",
    "                                F.round(\"min_tip_amount\", 2).alias(\"min_tip_amount\"),\n",
    "                                F.round(\"yellow_share\", 2).alias(\"yellow_share\"),\n",
    "                                F.round(\"green_share\", 2).alias(\"green_share\")\n",
    "                            )\n",
    "\n",
    "\n",
    "final_summary.show()"
   ]
  },
  {
   "cell_type": "markdown",
   "metadata": {
    "application/vnd.databricks.v1+cell": {
     "cellMetadata": {},
     "inputWidgets": {},
     "nuid": "55ded3f1-2024-46bb-865d-59c0619ce8ef",
     "showTitle": false,
     "tableResultSettingsMap": {},
     "title": ""
    }
   },
   "source": [
    "## Writing to delta lake summary"
   ]
  },
  {
   "cell_type": "code",
   "execution_count": 0,
   "metadata": {
    "application/vnd.databricks.v1+cell": {
     "cellMetadata": {
      "byteLimit": 2048000,
      "rowLimit": 10000
     },
     "inputWidgets": {},
     "nuid": "6adec81d-7506-4358-b404-f1c538555420",
     "showTitle": false,
     "tableResultSettingsMap": {},
     "title": ""
    },
    "execution": {
     "iopub.execute_input": "2025-07-15T21:30:07.946035Z",
     "iopub.status.busy": "2025-07-15T21:30:07.945791Z",
     "iopub.status.idle": "2025-07-15T21:32:47.869861Z",
     "shell.execute_reply": "2025-07-15T21:32:47.869104Z",
     "shell.execute_reply.started": "2025-07-15T21:30:07.946008Z"
    },
    "tags": []
   },
   "outputs": [],
   "source": [
    "final_summary.write \\\n",
    "    .format(\"delta\") \\\n",
    "    .mode(\"overwrite\") \\\n",
    "    .option(\"path\", \"s3://ovorobiov-hw/databricks/zone_summary/\") \\\n",
    "    .saveAsTable(\"ovorobiov_nyc_catalog.trips_schema.zone_summary\")"
   ]
  },
  {
   "cell_type": "markdown",
   "metadata": {
    "application/vnd.databricks.v1+cell": {
     "cellMetadata": {},
     "inputWidgets": {},
     "nuid": "0cbe408d-e557-41f4-adc2-bbd6106b8fff",
     "showTitle": false,
     "tableResultSettingsMap": {},
     "title": ""
    },
    "execution": {
     "iopub.execute_input": "2025-07-15T15:37:03.085101Z",
     "iopub.status.busy": "2025-07-15T15:37:03.084832Z",
     "iopub.status.idle": "2025-07-15T15:37:59.187256Z",
     "shell.execute_reply": "2025-07-15T15:37:59.186725Z",
     "shell.execute_reply.started": "2025-07-15T15:37:03.085083Z"
    },
    "executionRoleArn": "arn:aws:iam::554739427960:role/service-role/AmazonEMRStudio_RuntimeRole_1752423199458",
    "tags": []
   },
   "source": [
    "# Завдання 4: Агрегація по днях тижня та зонах"
   ]
  },
  {
   "cell_type": "markdown",
   "metadata": {
    "application/vnd.databricks.v1+cell": {
     "cellMetadata": {},
     "inputWidgets": {},
     "nuid": "c9ffdba7-8485-465f-b072-0a6fd814c8ff",
     "showTitle": false,
     "tableResultSettingsMap": {},
     "title": ""
    }
   },
   "source": [
    "## Group by pickup_zone and pickup_day_of_week. Calculate high_fare_share"
   ]
  },
  {
   "cell_type": "code",
   "execution_count": 0,
   "metadata": {
    "application/vnd.databricks.v1+cell": {
     "cellMetadata": {
      "byteLimit": 2048000,
      "rowLimit": 10000
     },
     "inputWidgets": {},
     "nuid": "50c75ee6-79c1-45af-a96d-dabff72829d2",
     "showTitle": false,
     "tableResultSettingsMap": {},
     "title": ""
    },
    "execution": {
     "iopub.execute_input": "2025-07-15T22:04:43.217349Z",
     "iopub.status.busy": "2025-07-15T22:04:43.216917Z",
     "iopub.status.idle": "2025-07-15T22:07:37.262753Z",
     "shell.execute_reply": "2025-07-15T22:07:37.261971Z",
     "shell.execute_reply.started": "2025-07-15T22:04:43.217281Z"
    },
    "tags": []
   },
   "outputs": [],
   "source": [
    "second_summary = delta_df.groupBy(\"pickup_zone\", \"pickup_day_of_week\").agg(\n",
    "                                    F.count(\"*\").alias(\"total_trips\"),\n",
    "                                    F.sum(F.when(F.col(\"fare_amount\") > 30, 1).otherwise(0)).alias(\"total_high_fares\")) \\\n",
    "                                    .withColumn(\"high_fare_share\", F.round(F.col(\"total_high_fares\") / F.col(\"total_trips\"), 2)) \\\n",
    "                                    .drop(\"total_high_fares\")\n",
    "second_summary.show()"
   ]
  },
  {
   "cell_type": "markdown",
   "metadata": {
    "application/vnd.databricks.v1+cell": {
     "cellMetadata": {},
     "inputWidgets": {},
     "nuid": "bf50ec93-517b-4738-ad84-bb329faf9e3d",
     "showTitle": false,
     "tableResultSettingsMap": {},
     "title": ""
    }
   },
   "source": [
    "## Writing zone_days_summary to delta lake"
   ]
  },
  {
   "cell_type": "code",
   "execution_count": 0,
   "metadata": {
    "application/vnd.databricks.v1+cell": {
     "cellMetadata": {
      "byteLimit": 2048000,
      "rowLimit": 10000
     },
     "inputWidgets": {},
     "nuid": "e68d3d10-8df1-44c3-896d-95b633905604",
     "showTitle": false,
     "tableResultSettingsMap": {},
     "title": ""
    },
    "execution": {
     "iopub.execute_input": "2025-07-15T21:58:35.899755Z",
     "iopub.status.busy": "2025-07-15T21:58:35.899407Z",
     "iopub.status.idle": "2025-07-15T22:00:37.631962Z",
     "shell.execute_reply": "2025-07-15T22:00:37.631139Z",
     "shell.execute_reply.started": "2025-07-15T21:58:35.899713Z"
    },
    "tags": []
   },
   "outputs": [],
   "source": [
    "second_summary.write \\\n",
    "    .format(\"delta\") \\\n",
    "    .mode(\"overwrite\") \\\n",
    "    .option(\"path\", \"s3://ovorobiov-hw/databricks/zone_days_summary/\") \\\n",
    "    .saveAsTable(\"ovorobiov_nyc_catalog.trips_schema.zone_days_summary\")"
   ]
  }
 ],
 "metadata": {
  "application/vnd.databricks.v1+notebook": {
   "computePreferences": null,
   "dashboards": [],
   "environmentMetadata": null,
   "inputWidgetPreferences": null,
   "language": "python",
   "notebookMetadata": {
    "mostRecentlyExecutedCommandWithImplicitDF": {
     "commandId": 5868079788210813,
     "dataframes": [
      "_sqldf"
     ]
    },
    "pythonIndentUnit": 4
   },
   "notebookName": "Databricks Data Processing",
   "widgets": {}
  },
  "kernelspec": {
   "display_name": "PySpark",
   "language": "python",
   "name": "pysparkkernel"
  },
  "language_info": {
   "name": "python"
  }
 },
 "nbformat": 4,
 "nbformat_minor": 0
}
