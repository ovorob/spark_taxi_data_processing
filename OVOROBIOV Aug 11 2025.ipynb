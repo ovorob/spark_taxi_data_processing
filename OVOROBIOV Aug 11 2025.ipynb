{
 "metadata": {
  "kernelspec": {
   "display_name": "Streamlit Notebook",
   "name": "streamlit"
  },
  "lastEditStatus": {
   "notebookId": "ru3irxe5nfy4yohwkgjh",
   "authorId": "5698764691952",
   "authorName": "ALEKSANDER.VRB",
   "authorEmail": "ALEKSANDER.VRB@GMAIL.COM",
   "sessionId": "27fd69ec-3196-4757-9dbb-ab9116b7cc6e",
   "lastEditTime": 1755297679453
  }
 },
 "nbformat_minor": 5,
 "nbformat": 4,
 "cells": [
  {
   "cell_type": "markdown",
   "id": "6ea3e311-1d89-4e80-9afd-dd1a5136b900",
   "metadata": {
    "name": "cell17",
    "collapsed": false
   },
   "source": "## 1. External Stage"
  },
  {
   "cell_type": "markdown",
   "id": "5356d4ea-963d-4ae4-af9a-1f801424cd8d",
   "metadata": {
    "name": "cell18",
    "collapsed": false
   },
   "source": "### - Створіть External Stage, який підключено до публічного бакету"
  },
  {
   "cell_type": "code",
   "id": "8d50cbf4-0c8d-4950-86cb-114990437ac9",
   "metadata": {
    "language": "sql",
    "name": "cell2"
   },
   "source": "CREATE STORAGE INTEGRATION ovorobiov_s3_int\n  TYPE = EXTERNAL_STAGE\n  STORAGE_PROVIDER = 'S3'\n  ENABLED = TRUE\n  STORAGE_AWS_ROLE_ARN = 'arn:aws:iam::554739427960:role/ovorobiov-snowflake-role'\n  STORAGE_ALLOWED_LOCATIONS = ('*');",
   "execution_count": null,
   "outputs": []
  },
  {
   "cell_type": "code",
   "id": "f0c9d7e6-5b55-448b-b532-fb166283c8ce",
   "metadata": {
    "language": "sql",
    "name": "cell1"
   },
   "outputs": [],
   "source": "DESC INTEGRATION ovorobiov_s3_int;",
   "execution_count": null
  },
  {
   "cell_type": "code",
   "id": "fc5cb043-09c1-4721-a548-efa024827835",
   "metadata": {
    "language": "sql",
    "name": "cell6"
   },
   "outputs": [],
   "source": "CREATE OR REPLACE STAGE ovorobiov_s3_stagre\nSTORAGE_INTEGRATION = ovorobiov_s3_int\nURL = 's3://robot-dreams-source-data/'\nFILE_FORMAT = ovorobiov_parquet_format;",
   "execution_count": null
  },
  {
   "cell_type": "markdown",
   "id": "13ad583e-fcb1-4188-877c-bc89a988dd7d",
   "metadata": {
    "name": "cell19",
    "collapsed": false
   },
   "source": "### - Перевірте доступність файлів за допомогою LIST @stage_name"
  },
  {
   "cell_type": "code",
   "id": "97178b02-9fc8-4123-bb65-21cf2ac79096",
   "metadata": {
    "language": "sql",
    "name": "cell7",
    "codeCollapsed": false
   },
   "outputs": [],
   "source": "LIST @ovorobiov_s3_stagre",
   "execution_count": null
  },
  {
   "cell_type": "markdown",
   "id": "e6cc551f-f0dc-40f0-9df3-d225d0b45d54",
   "metadata": {
    "name": "cell20",
    "collapsed": false
   },
   "source": "## 2. Завантаження сирих даних\n* Створіть таблиці yellow_raw, green_raw, taxi_zone_lookup\n* Завантажте файли в таблиці за допомогою команди COPY INTO"
  },
  {
   "cell_type": "code",
   "id": "efa76a6c-5130-448e-8d52-cad12837b9c7",
   "metadata": {
    "language": "sql",
    "name": "cell4"
   },
   "outputs": [],
   "source": "CREATE OR REPLACE FILE FORMAT ovorobiov_csv_format\n    TYPE = 'CSV'\n    COMPRESSION = 'AUTO'\n    FIELD_DELIMITER = ','\n    RECORD_DELIMITER = '\\n'\n    SKIP_HEADER = 1\n    TRIM_SPACE = TRUE\n    ERROR_ON_COLUMN_COUNT_MISMATCH = FALSE\n;",
   "execution_count": null
  },
  {
   "cell_type": "code",
   "id": "84c717b7-1fac-4f30-b2a8-d5d96d85df28",
   "metadata": {
    "language": "sql",
    "name": "cell5"
   },
   "outputs": [],
   "source": "CREATE OR REPLACE FILE FORMAT ovorobiov_parquet_format\n    TYPE = 'PARQUET'\n    COMPRESSION = 'AUTO'\n    USE_LOGICAL_TYPE = TRUE\n    TRIM_SPACE = TRUE\n;",
   "execution_count": null
  },
  {
   "cell_type": "code",
   "id": "d8881e66-a442-465c-a4ff-3ee7587c2268",
   "metadata": {
    "language": "sql",
    "name": "cell8"
   },
   "outputs": [],
   "source": "CREATE OR REPLACE TABLE TAXI_ZONE_LOOKUP (\n    LOCATION VARCHAR,\n    BOROUGH VARCHAR,\n    ZONE VARCHAR,\n    SERVICE_ZONE VARCHAR\n);",
   "execution_count": null
  },
  {
   "cell_type": "code",
   "id": "a59b5fbf-76d2-41b4-b0d6-2b0d485e2325",
   "metadata": {
    "language": "sql",
    "name": "cell12"
   },
   "outputs": [],
   "source": "CREATE OR REPLACE TABLE yellow_taxi_raw (\n    VendorID               BIGINT,\n    pickup_datetime        TIMESTAMP,\n    dropoff_datetime       TIMESTAMP,\n    passenger_count        BIGINT,\n    trip_distance          DOUBLE,\n    RatecodeID             BIGINT,\n    store_and_fwd_flag     STRING,\n    PULocationID           BIGINT,\n    DOLocationID           BIGINT,\n    payment_type           BIGINT,\n    fare_amount            DOUBLE,\n    extra                  DOUBLE,\n    mta_tax                DOUBLE,\n    tip_amount             DOUBLE,\n    tolls_amount           DOUBLE,\n    improvement_surcharge  DOUBLE,\n    total_amount           DOUBLE,\n    congestion_surcharge   DOUBLE,\n    airport_fee            DOUBLE\n);",
   "execution_count": null
  },
  {
   "cell_type": "code",
   "id": "c3c20b0b-7ee4-462d-b797-5e853a0562d3",
   "metadata": {
    "language": "sql",
    "name": "cell13"
   },
   "outputs": [],
   "source": "CREATE OR REPLACE TABLE green_taxi_raw (\n    VendorID BIGINT,\n    pickup_datetime TIMESTAMP,\n    dropoff_datetime TIMESTAMP,\n    passenger_count BIGINT,\n    trip_distance DOUBLE,\n    RatecodeID BIGINT,\n    store_and_fwd_flag STRING,\n    PULocationID BIGINT,\n    DOLocationID BIGINT,\n    payment_type BIGINT,\n    fare_amount DOUBLE,\n    extra DOUBLE,\n    mta_tax DOUBLE,\n    tip_amount DOUBLE,\n    tolls_amount DOUBLE,\n    improvement_surcharge DOUBLE,\n    total_amount DOUBLE,\n    congestion_surcharge DOUBLE,\n    ehail_fee DOUBLE,\n    trip_type DOUBLE\n);",
   "execution_count": null
  },
  {
   "cell_type": "code",
   "id": "45e8ad82-8997-4ec6-951a-0b94892f0a1d",
   "metadata": {
    "language": "sql",
    "name": "cell9"
   },
   "outputs": [],
   "source": "COPY INTO TAXI_ZONE_LOOKUP\nFROM @ovorobiov_s3_stagre/home-work-1/nyc_taxi/taxi_zone_lookup.csv\nFILE_FORMAT = (FORMAT_NAME = ovorobiov_csv_format)",
   "execution_count": null
  },
  {
   "cell_type": "code",
   "id": "b96879dc-f721-4d70-9cb3-09d50682095b",
   "metadata": {
    "language": "sql",
    "name": "cell10"
   },
   "outputs": [],
   "source": "COPY INTO yellow_taxi_raw\nFROM (\n    SELECT \n        $1:VendorID::BIGINT,\n        COALESCE($1:tpep_pickup_datetime::TIMESTAMP, $1:lpep_pickup_datetime::TIMESTAMP) AS pickup_datetime,\n        COALESCE($1:tpep_dropoff_datetime::TIMESTAMP, $1:lpep_dropoff_datetime::TIMESTAMP) AS dropoff_datetime,\n        $1:passenger_count::BIGINT,\n        $1:trip_distance::DOUBLE,\n        $1:RatecodeID::BIGINT,\n        $1:store_and_fwd_flag::STRING,\n        $1:PULocationID::BIGINT,\n        $1:DOLocationID::BIGINT,\n        $1:payment_type::BIGINT,\n        $1:fare_amount::DOUBLE,\n        $1:extra::DOUBLE,\n        $1:mta_tax::DOUBLE,\n        $1:tip_amount::DOUBLE,\n        $1:tolls_amount::DOUBLE,\n        $1:improvement_surcharge::DOUBLE,\n        $1:total_amount::DOUBLE,\n        $1:congestion_surcharge::DOUBLE,\n        COALESCE($1:airport_fee, $1:Airport_fee)::DOUBLE AS airport_fee\n    FROM @ovorobiov_s3_stagre/home-work-1/nyc_taxi/yellow/\n);",
   "execution_count": null
  },
  {
   "cell_type": "code",
   "id": "b34f9894-97f2-4af3-bc7d-f7047d0afe58",
   "metadata": {
    "language": "sql",
    "name": "cell11",
    "codeCollapsed": false
   },
   "outputs": [],
   "source": "COPY INTO green_taxi_raw\nFROM (\n    SELECT\n        $1:VendorID::BIGINT AS VendorID,\n        COALESCE($1:lpep_pickup_datetime, $1:pickup_datetime)::TIMESTAMP AS pickup_datetime,\n        COALESCE($1:lpep_dropoff_datetime, $1:dropoff_datetime)::TIMESTAMP AS dropoff_datetime,\n        $1:passenger_count::BIGINT AS passenger_count,\n        $1:trip_distance::DOUBLE AS trip_distance,\n        $1:RatecodeID::BIGINT AS RatecodeID,\n        $1:store_and_fwd_flag::STRING AS store_and_fwd_flag,\n        $1:PULocationID::BIGINT AS PULocationID,\n        $1:DOLocationID::BIGINT AS DOLocationID,\n        $1:payment_type::BIGINT AS payment_type,\n        $1:fare_amount::DOUBLE AS fare_amount,\n        $1:extra::DOUBLE AS extra,\n        $1:mta_tax::DOUBLE AS mta_tax,\n        $1:tip_amount::DOUBLE AS tip_amount,\n        $1:tolls_amount::DOUBLE AS tolls_amount,\n        $1:improvement_surcharge::DOUBLE AS improvement_surcharge,\n        $1:total_amount::DOUBLE AS total_amount,\n        $1:congestion_surcharge::DOUBLE AS congestion_surcharge,\n        $1:ehail_fee::DOUBLE AS ehail_fee,\n        $1:trip_type::DOUBLE AS trip_type\n    FROM @ovorobiov_s3_stagre/home-work-1/nyc_taxi/green/\n);",
   "execution_count": null
  },
  {
   "cell_type": "markdown",
   "id": "75389167-4fd0-40a4-a3e8-8bc630143275",
   "metadata": {
    "name": "cell21",
    "collapsed": false
   },
   "source": "## 3. Збагачення даних\n* Створіть таблиці yellow_enriched та green_enriched\n* Реалізуйте JOIN з lookup таблицею\n* Pickup/Dropoff зони (zone_name)\n* Використовуйте LEFT JOIN для збереження всіх записів"
  },
  {
   "cell_type": "code",
   "id": "0d4ac5d3-7c02-42e9-b785-9ac32eb19441",
   "metadata": {
    "language": "sql",
    "name": "cell14"
   },
   "outputs": [],
   "source": "CREATE OR REPLACE TABLE yellow_enriched AS\nSELECT \n    yt.VendorID,\n    yt.pickup_datetime,\n    yt.dropoff_datetime,\n    yt.passenger_count,\n    yt.trip_distance,\n    yt.RatecodeID,\n    yt.store_and_fwd_flag,\n    yt.PULocationID,\n    yt.DOLocationID,\n    yt.payment_type,\n    yt.fare_amount,\n    yt.extra,\n    yt.mta_tax,\n    yt.tip_amount,\n    yt.tolls_amount,\n    yt.improvement_surcharge,\n    yt.total_amount,\n    yt.congestion_surcharge,\n    yt.airport_fee,\n    ptz.zone AS pickup_zone,\n    dtz.zone AS dropoff_zone\nFROM YELLOW_TAXI_RAW yt\nLEFT JOIN TAXI_ZONE_LOOKUP ptz ON yt.PULOCATIONID = ptz.LOCATION\nLEFT JOIN TAXI_ZONE_LOOKUP dtz ON yt.DOLOCATIONID = dtz.LOCATION ;",
   "execution_count": null
  },
  {
   "cell_type": "code",
   "id": "dc01764c-94f0-4ff7-9221-6bbeae83e85b",
   "metadata": {
    "language": "sql",
    "name": "cell16",
    "codeCollapsed": false
   },
   "outputs": [],
   "source": "CREATE OR REPLACE TABLE green_enriched AS\nSELECT\n    gt.VendorID,\n    gt.pickup_datetime,\n    gt.dropoff_datetime,\n    gt.passenger_count,\n    gt.trip_distance,\n    gt.RatecodeID,\n    gt.store_and_fwd_flag,\n    gt.PULocationID,\n    gt.DOLocationID,\n    gt.payment_type,\n    gt.fare_amount,\n    gt.extra,\n    gt.mta_tax,\n    gt.tip_amount,\n    gt.tolls_amount,\n    gt.improvement_surcharge,\n    gt.total_amount,\n    gt.congestion_surcharge,\n    gt.ehail_fee,\n    gt.trip_type,\n    ptz.zone AS pickup_zone,\n    dtz.zone AS dropoff_zone\nFROM GREEN_TAXI_RAW gt\nLEFT JOIN TAXI_ZONE_LOOKUP ptz ON gt.PULOCATIONID = ptz.LOCATION\nLEFT JOIN TAXI_ZONE_LOOKUP dtz ON gt.DOLOCATIONID = dtz.LOCATION;",
   "execution_count": null
  },
  {
   "cell_type": "markdown",
   "id": "6b19a4dd-3a47-433a-8f9f-c97004d47c98",
   "metadata": {
    "name": "cell22",
    "collapsed": false
   },
   "source": "## 4. Трансформації\n* Фільтруйте записи:\n  * trip_distance > 0\n  * total_amount > 0\n  * passenger_count між 1 та 6\n* Додайте колонку trip_category:\n  * Short (до 2 км), Medium (2–10 км), Long (>10 км)\n* Додайте колонку pickup_hour: годину з pickup_datetime\n* Створіть агреговану таблицю з підрахунком по зонах"
  },
  {
   "cell_type": "code",
   "id": "3ce17964-446d-4b12-8a8d-cc5a40b647ea",
   "metadata": {
    "language": "sql",
    "name": "cell23"
   },
   "outputs": [],
   "source": "DELETE FROM GREEN_ENRICHED WHERE trip_distance > 0 AND total_amount > 0 AND (passenger_count >= 1 AND passenger_count <= 6);",
   "execution_count": null
  },
  {
   "cell_type": "code",
   "id": "d3268d0b-2df7-4f4f-9400-c02eccae3a05",
   "metadata": {
    "language": "sql",
    "name": "cell24",
    "codeCollapsed": false
   },
   "outputs": [],
   "source": "DELETE FROM YELLOW_ENRICHED WHERE trip_distance > 0 AND total_amount > 0 AND (passenger_count >= 1 AND passenger_count <= 6);",
   "execution_count": null
  },
  {
   "cell_type": "code",
   "id": "51b1f3d0-41e2-4331-942e-0d563c97c987",
   "metadata": {
    "language": "sql",
    "name": "cell25"
   },
   "outputs": [],
   "source": "ALTER TABLE GREEN_ENRICHED ADD COLUMN pickup_hour INT;\nALTER TABLE GREEN_ENRICHED ADD COLUMN trip_category VARCHAR;\nALTER TABLE YELLOW_ENRICHED ADD COLUMN pickup_hour INT;\nALTER TABLE YELLOW_ENRICHED ADD COLUMN trip_category VARCHAR;\n",
   "execution_count": null
  },
  {
   "cell_type": "code",
   "id": "0ca53b60-fa67-45e4-84a8-5741e95a3594",
   "metadata": {
    "language": "sql",
    "name": "cell15",
    "codeCollapsed": false
   },
   "outputs": [],
   "source": "-- Додайте колонку trip_category:\n--- Short (до 2 км), Medium (2–10 км), Long (>10 км)\n--- Додайте колонку pickup_hour: годину з pickup_datetime\nUPDATE GREEN_ENRICHED SET \n    trip_category = CASE \n        WHEN trip_distance < 2 THEN 'Short'\n        WHEN (trip_distance >= 2 AND trip_distance <= 10) THEN 'Medium'\n        ELSE 'Long'\n        END,\n    pickup_hour = EXTRACT(HOUR FROM pickup_datetime);\n\n-- Додайте колонку trip_category:\n--- Short (до 2 км), Medium (2–10 км), Long (>10 км)\n--- Додайте колонку pickup_hour: годину з pickup_datetime\nUPDATE YELLOW_ENRICHED SET \n    trip_category = CASE \n        WHEN trip_distance < 2 THEN 'Short'\n        WHEN (trip_distance >= 2 AND trip_distance <= 10) THEN 'Medium'\n        ELSE 'Long'\n        END,\n    pickup_hour = EXTRACT(HOUR FROM pickup_datetime);\n\n",
   "execution_count": null
  },
  {
   "cell_type": "code",
   "id": "abc35fda-2748-4514-80bb-6cd833d46a69",
   "metadata": {
    "language": "sql",
    "name": "cell26"
   },
   "outputs": [],
   "source": "CREATE OR REPLACE TABLE GREEN_ZONE_SUMMARY AS\nSELECT \n    pickup_zone,\n    count(*) AS total_trips,\n    avg(trip_distance) AS avg_trip_distance,\n    avg(total_amount) AS avg_total_amount,\n    avg(tip_amount) AS avg_tip_amount,\n    max(trip_distance) AS max_trip_distance,\n    min(tip_amount) AS min_tip_amount\nFROM GREEN_ENRICHED\nGROUP BY pickup_zone;",
   "execution_count": null
  },
  {
   "cell_type": "code",
   "id": "713112ef-4add-41be-91e5-177fad56fdf6",
   "metadata": {
    "language": "sql",
    "name": "cell27"
   },
   "outputs": [],
   "source": "CREATE OR REPLACE TABLE YELLOW_ZONE_SUMMARY AS\nSELECT \n    pickup_zone,\n    count(*) AS total_trips,\n    avg(trip_distance) AS avg_trip_distance,\n    avg(total_amount) AS avg_total_amount,\n    avg(tip_amount) AS avg_tip_amount,\n    max(trip_distance) AS max_trip_distance,\n    min(tip_amount) AS min_tip_amount\nFROM YELLOW_ENRICHED\nGROUP BY pickup_zone;",
   "execution_count": null
  },
  {
   "cell_type": "markdown",
   "id": "b9c9b109-f7a6-4816-ab0c-7f4edf41c47b",
   "metadata": {
    "name": "cell29",
    "collapsed": false
   },
   "source": "## 5. Time Travel\n\n* Видаліть кілька записів зі збагаченої таблиці (наприклад, green_enriched)\n* За допомогою Time Travel:\n  * Перевірте стару версію таблиці (через AT або BEFORE)\n  * Відновіть видалені записи у нову таблицю або у ту ж (через INSERT SELECT)"
  },
  {
   "cell_type": "code",
   "id": "6223e0e1-6be5-4ac1-83b9-40104f4e3c98",
   "metadata": {
    "language": "sql",
    "name": "cell28"
   },
   "outputs": [],
   "source": "SELECT count(*) FROM GREEN_ENRICHED WHERE TOTAL_AMOUNT = 1.1;",
   "execution_count": null
  },
  {
   "cell_type": "code",
   "id": "3f00e1ab-31cf-4001-a728-9dce061d0984",
   "metadata": {
    "language": "sql",
    "name": "cell3"
   },
   "outputs": [],
   "source": "-- 1. Delete a few records from green_enriched\nDELETE FROM green_enriched WHERE TOTAL_AMOUNT = 1.1;",
   "execution_count": null
  },
  {
   "cell_type": "code",
   "id": "9cbd8a64-8455-4732-9e16-2c516cbdfdfd",
   "metadata": {
    "language": "sql",
    "name": "cell31"
   },
   "outputs": [],
   "source": "SELECT query_id, query_text, start_time\nFROM TABLE(INFORMATION_SCHEMA.QUERY_HISTORY(\n    END_TIME_RANGE_START => DATEADD('hour', -1, CURRENT_TIMESTAMP),\n    END_TIME_RANGE_END   => CURRENT_TIMESTAMP\n))\nWHERE query_text ILIKE 'DELETE%'\nORDER BY start_time DESC;",
   "execution_count": null
  },
  {
   "cell_type": "code",
   "id": "73e476dd-dec5-4acb-a136-9b307062751d",
   "metadata": {
    "language": "sql",
    "name": "cell30"
   },
   "outputs": [],
   "source": "-- 2. View an old version of the table using Time Travel\nSELECT count(*) FROM green_enriched AT (STATEMENT => '01be64eb-0001-660f-0001-600a0012f71e');",
   "execution_count": null
  },
  {
   "cell_type": "code",
   "id": "d7c45b1c-cdf7-4136-95eb-cb7f98663221",
   "metadata": {
    "language": "sql",
    "name": "cell33"
   },
   "outputs": [],
   "source": "-- 3. Restore deleted data into the new table\nCREATE OR REPLACE TABLE deleted_green_log AS\nSELECT *\nFROM green_enriched\nAT (OFFSET => -60*5);",
   "execution_count": null
  },
  {
   "cell_type": "code",
   "id": "50b4d3a2-46ec-45b3-8d57-4e515ff2c9d8",
   "metadata": {
    "language": "sql",
    "name": "cell32"
   },
   "outputs": [],
   "source": "-- 4. Check the new table\nSELECT TOP 10 * FROM deleted_green_log;",
   "execution_count": null
  },
  {
   "cell_type": "markdown",
   "id": "fa2628e1-17ef-4cd6-9de1-baefc45afe71",
   "metadata": {
    "name": "cell35",
    "collapsed": false
   },
   "source": "## 6. Streams\n\n* Створіть Stream на таблиці yellow_enriched\n* Додайте нові записи вручну або через COPY INTO\n* Перевірте, що Stream відображає INSERT/UPDATE зміни\n* Створіть цільову таблицю yellow_changes_log для зберігання змін"
  },
  {
   "cell_type": "code",
   "id": "f62421bc-455f-447c-b159-681a12048bdc",
   "metadata": {
    "language": "sql",
    "name": "cell34",
    "codeCollapsed": false
   },
   "outputs": [],
   "source": "-- 1. Create stream\nCREATE OR REPLACE STREAM yellow_enriched_stream\nON TABLE yellow_enriched;\n",
   "execution_count": null
  },
  {
   "cell_type": "code",
   "id": "7772d56a-4f33-4ed3-8117-7a7002bbe9dd",
   "metadata": {
    "language": "sql",
    "name": "cell37"
   },
   "outputs": [],
   "source": "SELECT COLUMN_NAME\nFROM INFORMATION_SCHEMA.COLUMNS\nWHERE TABLE_NAME = 'YELLOW_ENRICHED';",
   "execution_count": null
  },
  {
   "cell_type": "code",
   "id": "8c2f2e35-5598-4f2f-9638-014bdc33ba71",
   "metadata": {
    "language": "sql",
    "name": "cell40"
   },
   "outputs": [],
   "source": "SELECT TOP 1 * FROM yellow_enriched;",
   "execution_count": null
  },
  {
   "cell_type": "code",
   "id": "2cb3f036-c341-425d-b0d9-18998d32185c",
   "metadata": {
    "language": "sql",
    "name": "cell36",
    "codeCollapsed": false
   },
   "outputs": [],
   "source": "-- 2. Insert new data manually\nINSERT INTO yellow_enriched (\n    PICKUP_DATETIME,\n    DROPOFF_DATETIME,\n    DOLOCATIONID,\n    VENDORID,\n    PASSENGER_COUNT,\n    PICKUP_ZONE,\n    PULOCATIONID,\n    TOTAL_AMOUNT\n)\nVALUES\n('2017-07-05 12:58:50', '2017-07-05 12:58:54', 264, 1, 2, 'Springfield Gardens South', 219, 333),\n('2017-07-08 14:58:50', '2017-07-08 18:58:54', 264, 1, 2, 'Springfield Gardens South', 219, 444);",
   "execution_count": null
  },
  {
   "cell_type": "code",
   "id": "cd57b6bd-4eb9-4eb2-8b82-b28b10fcf851",
   "metadata": {
    "language": "sql",
    "name": "cell39"
   },
   "outputs": [],
   "source": "-- 3. View stream contents (shows changes)\nSELECT * FROM yellow_enriched_stream;\n",
   "execution_count": null
  },
  {
   "cell_type": "code",
   "id": "aaf72e2e-d2f6-40aa-b225-2866317a33b1",
   "metadata": {
    "language": "sql",
    "name": "cell38"
   },
   "outputs": [],
   "source": "-- 4. Create target table for changes log\nCREATE OR REPLACE TABLE yellow_changes_log AS\nSELECT * FROM yellow_enriched_stream WHERE 1=0;",
   "execution_count": null
  },
  {
   "cell_type": "code",
   "id": "872b5cd5-4485-4f86-ac21-4c9b9e3b271f",
   "metadata": {
    "language": "sql",
    "name": "cell52"
   },
   "outputs": [],
   "source": "-- Alter METADATA$ROW_ID AND METADATA$ACTION columns to support longer IDs\nALTER TABLE yellow_changes_log \n    ALTER COLUMN \"METADATA$ROW_ID\" SET DATA TYPE VARCHAR;\nALTER TABLE yellow_changes_log \n    ALTER COLUMN \"METADATA$ACTION\" SET DATA TYPE VARCHAR;",
   "execution_count": null
  },
  {
   "cell_type": "code",
   "id": "1d18f172-cd6c-4234-a045-72092421dfe4",
   "metadata": {
    "language": "sql",
    "name": "cell51"
   },
   "outputs": [],
   "source": "SELECT COLUMN_NAME\nFROM INFORMATION_SCHEMA.COLUMNS\nWHERE TABLE_NAME = 'YELLOW_CHANGES_LOG'; ",
   "execution_count": null
  },
  {
   "cell_type": "markdown",
   "id": "ad02526a-592a-4125-b2e0-c1690e6771f5",
   "metadata": {
    "name": "cell41",
    "collapsed": false
   },
   "source": "## 7. Tasks (batch/streaming jobs)\n\n* Створіть Task, який щогодини:\n  * Зчитує зміни зі Stream\n  * Вставляє нові записи у yellow_changes_log\n* Використайте SCHEDULE = '1 HOUR' або WAREHOUSE = '...' для запуску\n* Зробіть окремий Task для агрегованої статистики:\n  * Середня відстань\n  * Середня ціна\n  * Кількість поїздок\n  * Зберігайте у таблицю zone_hourly_stats\n* Використайте SCHEDULE = '1 HOUR' або WAREHOUSE = '...' для запуску\n\n"
  },
  {
   "cell_type": "code",
   "id": "d54b0706-ede5-4b52-895b-7469a9928bb6",
   "metadata": {
    "language": "sql",
    "name": "cell42"
   },
   "outputs": [],
   "source": "-- Create task to read and save changes from stream\nCREATE OR REPLACE TASK task_yellow_changes_log\n  WAREHOUSE = SNOWFLAKE_LEARNING_WH\n  SCHEDULE = '1 HOUR'\nAS\nINSERT INTO yellow_changes_log\nSELECT *\nFROM yellow_enriched_stream;",
   "execution_count": null
  },
  {
   "cell_type": "code",
   "id": "a1aeb07e-3f89-4282-b0e8-48bc6c9421df",
   "metadata": {
    "language": "sql",
    "name": "cell43"
   },
   "outputs": [],
   "source": "-- Create table for aggregated\nCREATE OR REPLACE TABLE zone_hourly_stats (\n    stat_hour INT,\n    avg_distance FLOAT,\n    avg_fare FLOAT,\n    trip_count INT\n);",
   "execution_count": null
  },
  {
   "cell_type": "code",
   "id": "1c626106-0874-42f0-b862-bda8d453faf9",
   "metadata": {
    "language": "sql",
    "name": "cell44"
   },
   "outputs": [],
   "source": "-- Create task for aggregated stats\nCREATE OR REPLACE TASK task_zone_hourly_stats\n  WAREHOUSE = SNOWFLAKE_LEARNING_WH\n  SCHEDULE = '1 HOUR'\nAS\nINSERT INTO zone_hourly_stats\nSELECT \n    pickup_hour AS stat_hour,\n    AVG(trip_distance) AS avg_distance,\n    AVG(fare_amount) AS avg_fare,\n    COUNT(*) AS trip_count\nFROM yellow_enriched\nGROUP BY pickup_hour\nORDER BY 1;",
   "execution_count": null
  },
  {
   "cell_type": "markdown",
   "id": "529b58a2-a61e-425d-8393-57f06b78398e",
   "metadata": {
    "name": "cell53",
    "collapsed": false
   },
   "source": "## Start tasks: task_zone_hourly_stats and task_yellow_changes_log"
  },
  {
   "cell_type": "code",
   "id": "adb0475c-796e-4516-b05e-46af5c8183be",
   "metadata": {
    "language": "sql",
    "name": "cell45"
   },
   "outputs": [],
   "source": "ALTER TASK task_zone_hourly_stats RESUME;",
   "execution_count": null
  },
  {
   "cell_type": "code",
   "id": "da8ac6f7-c404-45c4-9072-f3f0c5b8c2f9",
   "metadata": {
    "language": "sql",
    "name": "cell50"
   },
   "outputs": [],
   "source": "ALTER TASK task_yellow_changes_log RESUME;",
   "execution_count": null
  },
  {
   "cell_type": "markdown",
   "id": "7a5cade5-0e5c-4ce3-8d4b-bdaf70e3b8fb",
   "metadata": {
    "name": "cell54",
    "collapsed": false
   },
   "source": "## Execute tasks immediately: task_zone_hourly_stats and task_yellow_changes_log"
  },
  {
   "cell_type": "code",
   "id": "d882f727-892e-46e4-9d16-81f09e6478f8",
   "metadata": {
    "language": "sql",
    "name": "cell48"
   },
   "outputs": [],
   "source": "EXECUTE TASK task_zone_hourly_stats;\n",
   "execution_count": null
  },
  {
   "cell_type": "code",
   "id": "a9811fc0-c90b-4f7a-b1e9-3a8ea260f6e9",
   "metadata": {
    "language": "sql",
    "name": "cell49"
   },
   "outputs": [],
   "source": "EXECUTE TASK task_yellow_changes_log;",
   "execution_count": null
  },
  {
   "cell_type": "markdown",
   "id": "971e54d8-b4c1-46d0-840c-fc6f212a09bd",
   "metadata": {
    "name": "cell55",
    "collapsed": false
   },
   "source": "## Check results of tasks execution"
  },
  {
   "cell_type": "code",
   "id": "1a416cd3-399f-4e92-966a-2353065cc433",
   "metadata": {
    "language": "sql",
    "name": "cell46"
   },
   "outputs": [],
   "source": "SELECT * FROM zone_hourly_stats;",
   "execution_count": null
  },
  {
   "cell_type": "code",
   "id": "0027283b-77ec-4359-b667-d7cd47ad8dfd",
   "metadata": {
    "language": "sql",
    "name": "cell47"
   },
   "outputs": [],
   "source": "SELECT * FROM yellow_changes_log;",
   "execution_count": null
  }
 ]
}