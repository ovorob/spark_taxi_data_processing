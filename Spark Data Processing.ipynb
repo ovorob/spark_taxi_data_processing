{
 "cells": [
  {
   "cell_type": "code",
   "execution_count": 1,
   "metadata": {
    "execution": {
     "iopub.execute_input": "2025-07-15T19:16:37.577237Z",
     "iopub.status.busy": "2025-07-15T19:16:37.576857Z",
     "iopub.status.idle": "2025-07-15T19:16:55.135054Z",
     "shell.execute_reply": "2025-07-15T19:16:55.134264Z",
     "shell.execute_reply.started": "2025-07-15T19:16:37.577206Z"
    },
    "tags": []
   },
   "outputs": [
    {
     "data": {
      "application/vnd.jupyter.widget-view+json": {
       "model_id": "5afcf3ec789a4aa18da31bbc37108119",
       "version_major": 2,
       "version_minor": 0
      },
      "text/plain": [
       "VBox()"
      ]
     },
     "metadata": {},
     "output_type": "display_data"
    },
    {
     "name": "stdout",
     "output_type": "stream",
     "text": [
      "Starting Spark application\n"
     ]
    },
    {
     "data": {
      "text/html": [
       "<table>\n",
       "<tbody><tr><th>ID</th><th>YARN Application ID</th><th>Kind</th><th>State</th><th>Spark UI</th><th>Driver log</th><th>User</th><th>Current session?</th></tr><tr><td>60</td><td>application_1752432793451_0061</td><td>pyspark</td><td>idle</td><td><a target=\"_blank\" href=\"http://ip-172-31-9-138.eu-north-1.compute.internal:20888/proxy/application_1752432793451_0061/\" class=\"emr-proxy-link j-2P40DWK84FVJ9 application_1752432793451_0061\" emr-resource=\"j-2P40DWK84FVJ9\n",
       "\" application-id=\"application_1752432793451_0061\">Link</a></td><td><a target=\"_blank\" href=\"http://ip-172-31-10-40.eu-north-1.compute.internal:8042/node/containerlogs/container_1752432793451_0061_01_000001/livy\">Link</a></td><td>None</td><td>✔</td></tr></tbody></table>"
      ],
      "text/plain": [
       "<IPython.core.display.HTML object>"
      ]
     },
     "metadata": {},
     "output_type": "display_data"
    },
    {
     "data": {
      "application/vnd.jupyter.widget-view+json": {
       "model_id": "",
       "version_major": 2,
       "version_minor": 0
      },
      "text/plain": [
       "FloatProgress(value=0.0, bar_style='info', description='Progress:', layout=Layout(height='25px', width='50%'),…"
      ]
     },
     "metadata": {},
     "output_type": "display_data"
    },
    {
     "name": "stdout",
     "output_type": "stream",
     "text": [
      "SparkSession available as 'spark'.\n"
     ]
    },
    {
     "data": {
      "application/vnd.jupyter.widget-view+json": {
       "model_id": "",
       "version_major": 2,
       "version_minor": 0
      },
      "text/plain": [
       "FloatProgress(value=0.0, bar_style='info', description='Progress:', layout=Layout(height='25px', width='50%'),…"
      ]
     },
     "metadata": {},
     "output_type": "display_data"
    },
    {
     "name": "stdout",
     "output_type": "stream",
     "text": [
      "3.5.5-amzn-0"
     ]
    }
   ],
   "source": [
    "print(spark.version)"
   ]
  },
  {
   "cell_type": "markdown",
   "metadata": {},
   "source": [
    "# Завдання 2: Імпорт, уніфікація та об’єднання"
   ]
  },
  {
   "cell_type": "code",
   "execution_count": 97,
   "metadata": {
    "execution": {
     "iopub.execute_input": "2025-07-15T22:00:37.633336Z",
     "iopub.status.busy": "2025-07-15T22:00:37.633163Z",
     "iopub.status.idle": "2025-07-15T22:00:37.880214Z",
     "shell.execute_reply": "2025-07-15T22:00:37.879522Z",
     "shell.execute_reply.started": "2025-07-15T22:00:37.633311Z"
    },
    "tags": []
   },
   "outputs": [
    {
     "data": {
      "application/vnd.jupyter.widget-view+json": {
       "model_id": "e64f16fa90ec40679975bca35db4720e",
       "version_major": 2,
       "version_minor": 0
      },
      "text/plain": [
       "VBox()"
      ]
     },
     "metadata": {},
     "output_type": "display_data"
    },
    {
     "data": {
      "application/vnd.jupyter.widget-view+json": {
       "model_id": "",
       "version_major": 2,
       "version_minor": 0
      },
      "text/plain": [
       "FloatProgress(value=0.0, bar_style='info', description='Progress:', layout=Layout(height='25px', width='50%'),…"
      ]
     },
     "metadata": {},
     "output_type": "display_data"
    }
   ],
   "source": [
    "from pyspark.sql.types import StructType, StructField, StringType, IntegerType, DoubleType, TimestampType, LongType\n",
    "import pyspark.sql.functions as F\n",
    "import datetime\n",
    "import boto3\n",
    "import re\n",
    "\n",
    "date = datetime.date.today()\n",
    "s3 = boto3.client(\"s3\")\n",
    "\n",
    "S3_BUCKET_NAME = \"robot-dreams-source-data\"\n",
    "GREEN_PREFIX = \"home-work-1/nyc_taxi/green\"\n",
    "YELLOW_PREFIX = \"home-work-1/nyc_taxi/yellow\"\n",
    "YELLOW_TAXI_PATH = f\"s3://{S3_BUCKET_NAME}/{YELLOW_PREFIX}/\"\n",
    "GREEN_TAXI_PATH = f\"s3://{S3_BUCKET_NAME}/{GREEN_PREFIX}/\"\n",
    "TAXI_ZONE_LOOKUP_PATH = f\"s3://{S3_BUCKET_NAME}/home-work-1/nyc_taxi/taxi_zone_lookup.csv\"\n",
    "\n",
    "S3_BUCKET_HW_NAME = \"ovorobiov-hw\"\n",
    "ZONE_STATISTIC_HW_PATH = f\"s3://{S3_BUCKET_HW_NAME}/results/zone_statistic/{date}/zone_statistic.parquet\"\n",
    "ZONE_DAYS_STATISTIC_HW_PATH = f\"s3://{S3_BUCKET_HW_NAME}/results/zone_days_statstic/{date}/zone_days_statstic.parquet\""
   ]
  },
  {
   "cell_type": "markdown",
   "metadata": {},
   "source": [
    "## Load data into data frame"
   ]
  },
  {
   "cell_type": "code",
   "execution_count": null,
   "metadata": {
    "vscode": {
     "languageId": "plaintext"
    }
   },
   "outputs": [],
   "source": [
    "def load_taxi_data(prefix, columns_to_cast):\n",
    "    \"\"\"\n",
    "    Loading taxi data from s3 bucket to spark dataframe.\n",
    "\n",
    "    Args:\n",
    "        prefix (str): part of the path to the parquet files to green or yellow (e.g. home-work-1/nyc_taxi/green)\n",
    "        columns_to_cast (list): list of strings (sql commands to cast columns into proper data types\n",
    "    Returns:\n",
    "        taxi_df (DataFrame): taxi data in spark dataframe\n",
    "    \"\"\"\n",
    "    s3_response = s3.list_objects_v2(Bucket=S3_BUCKET_NAME, Prefix=f\"{prefix}/\")\n",
    "\n",
    "    # Preparing paths to parquet files\n",
    "    valid_parquet_files = [\n",
    "        f\"s3://{S3_BUCKET_NAME}/{obj['Key']}\"\n",
    "        for obj in s3_response.get(\"Contents\", [])\n",
    "        if obj[\"Key\"].endswith(\".parquet\")\n",
    "    ]\n",
    "\n",
    "    # Data frame list\n",
    "    data_frames = []\n",
    "    \n",
    "    # Looping through all parquet files and union them into one DF\n",
    "    for parquete_file in valid_parquet_files:\n",
    "        temp_df = spark.read.parquet(parquete_file).selectExpr(*columns_to_cast)\n",
    "        data_frames.append(temp_df)\n",
    "\n",
    "    taxi_df = data_frames[0]\n",
    "    for df in data_frames[1:]:\n",
    "        taxi_df = taxi_df.unionByName(df)\n",
    "    return taxi_df\n",
    "    "
   ]
  },
  {
   "cell_type": "markdown",
   "metadata": {},
   "source": [
    "## Yellow Taxi Schema"
   ]
  },
  {
   "cell_type": "code",
   "execution_count": 46,
   "metadata": {
    "execution": {
     "iopub.execute_input": "2025-07-15T20:22:23.766552Z",
     "iopub.status.busy": "2025-07-15T20:22:23.766285Z",
     "iopub.status.idle": "2025-07-15T20:22:23.810628Z",
     "shell.execute_reply": "2025-07-15T20:22:23.809115Z",
     "shell.execute_reply.started": "2025-07-15T20:22:23.766521Z"
    },
    "tags": []
   },
   "outputs": [
    {
     "data": {
      "application/vnd.jupyter.widget-view+json": {
       "model_id": "d11ffff52caf4cedadcada3b0b319e0a",
       "version_major": 2,
       "version_minor": 0
      },
      "text/plain": [
       "VBox()"
      ]
     },
     "metadata": {},
     "output_type": "display_data"
    },
    {
     "data": {
      "application/vnd.jupyter.widget-view+json": {
       "model_id": "",
       "version_major": 2,
       "version_minor": 0
      },
      "text/plain": [
       "FloatProgress(value=0.0, bar_style='info', description='Progress:', layout=Layout(height='25px', width='50%'),…"
      ]
     },
     "metadata": {},
     "output_type": "display_data"
    }
   ],
   "source": [
    "yellow_taxi_schema = StructType([\n",
    "    StructField(\"VendorID\", LongType(), True),\n",
    "    StructField(\"tpep_pickup_datetime\", TimestampType(), True),\n",
    "    StructField(\"tpep_dropoff_datetime\", TimestampType(), True),\n",
    "    StructField(\"passenger_count\", LongType(), True),\n",
    "    StructField(\"trip_distance\", DoubleType(), True),\n",
    "    StructField(\"RatecodeID\", LongType(), True),\n",
    "    StructField(\"store_and_fwd_flag\", StringType(), True),\n",
    "    StructField(\"PULocationID\", LongType(), True),\n",
    "    StructField(\"DOLocationID\", LongType(), True),\n",
    "    StructField(\"payment_type\", LongType(), True),\n",
    "    StructField(\"fare_amount\", DoubleType(), True),\n",
    "    StructField(\"extra\", DoubleType(), True),\n",
    "    StructField(\"mta_tax\", DoubleType(), True),\n",
    "    StructField(\"tip_amount\", DoubleType(), True),\n",
    "    StructField(\"tolls_amount\", DoubleType(), True),\n",
    "    StructField(\"improvement_surcharge\", DoubleType(), True),\n",
    "    StructField(\"total_amount\", DoubleType(), True),\n",
    "    StructField(\"congestion_surcharge\", DoubleType(), True),\n",
    "    StructField(\"airport_fee\", DoubleType(), True)\n",
    "])"
   ]
  },
  {
   "cell_type": "markdown",
   "metadata": {},
   "source": [
    "## Green Taxi Schema"
   ]
  },
  {
   "cell_type": "code",
   "execution_count": 47,
   "metadata": {
    "execution": {
     "iopub.execute_input": "2025-07-15T20:22:25.998292Z",
     "iopub.status.busy": "2025-07-15T20:22:25.998048Z",
     "iopub.status.idle": "2025-07-15T20:22:26.061043Z",
     "shell.execute_reply": "2025-07-15T20:22:26.058469Z",
     "shell.execute_reply.started": "2025-07-15T20:22:25.998263Z"
    },
    "tags": []
   },
   "outputs": [
    {
     "data": {
      "application/vnd.jupyter.widget-view+json": {
       "model_id": "f25170870010404893a671d8fed664fa",
       "version_major": 2,
       "version_minor": 0
      },
      "text/plain": [
       "VBox()"
      ]
     },
     "metadata": {},
     "output_type": "display_data"
    },
    {
     "data": {
      "application/vnd.jupyter.widget-view+json": {
       "model_id": "",
       "version_major": 2,
       "version_minor": 0
      },
      "text/plain": [
       "FloatProgress(value=0.0, bar_style='info', description='Progress:', layout=Layout(height='25px', width='50%'),…"
      ]
     },
     "metadata": {},
     "output_type": "display_data"
    }
   ],
   "source": [
    "green_taxi_schema = StructType([\n",
    "    StructField(\"VendorID\", LongType(), True),\n",
    "    StructField(\"lpep_pickup_datetime\", TimestampType(), True),\n",
    "    StructField(\"lpep_dropoff_datetime\", TimestampType(), True),\n",
    "    StructField(\"passenger_count\", LongType(), True),\n",
    "    StructField(\"trip_distance\", DoubleType(), True),\n",
    "    StructField(\"RatecodeID\", LongType(), True),\n",
    "    StructField(\"store_and_fwd_flag\", StringType(), True),\n",
    "    StructField(\"PULocationID\", LongType(), True),\n",
    "    StructField(\"DOLocationID\", LongType(), True),\n",
    "    StructField(\"payment_type\", LongType(), True),\n",
    "    StructField(\"fare_amount\", DoubleType(), True),\n",
    "    StructField(\"extra\", DoubleType(), True),\n",
    "    StructField(\"mta_tax\", DoubleType(), True),\n",
    "    StructField(\"tip_amount\", DoubleType(), True),\n",
    "    StructField(\"tolls_amount\", DoubleType(), True),\n",
    "    StructField(\"improvement_surcharge\", DoubleType(), True),\n",
    "    StructField(\"total_amount\", DoubleType(), True),\n",
    "    StructField(\"congestion_surcharge\", DoubleType(), True),\n",
    "    StructField(\"ehail_fee\", DoubleType(), True),\n",
    "    StructField(\"trip_type\", DoubleType(), True)\n",
    "])\n"
   ]
  },
  {
   "cell_type": "markdown",
   "metadata": {
    "execution": {
     "iopub.execute_input": "2025-07-13T19:59:01.109074Z",
     "iopub.status.busy": "2025-07-13T19:59:01.108576Z",
     "iopub.status.idle": "2025-07-13T19:59:01.326595Z",
     "shell.execute_reply": "2025-07-13T19:59:01.326239Z",
     "shell.execute_reply.started": "2025-07-13T19:59:01.109055Z"
    },
    "executionRoleArn": "arn:aws:iam::554739427960:role/service-role/AmazonEMRStudio_RuntimeRole_1752423199458",
    "tags": []
   },
   "source": [
    "## Creating Yello DF"
   ]
  },
  {
   "cell_type": "code",
   "execution_count": null,
   "metadata": {
    "execution": {
     "iopub.execute_input": "2025-07-15T20:22:31.046616Z",
     "iopub.status.busy": "2025-07-15T20:22:31.046373Z",
     "iopub.status.idle": "2025-07-15T20:22:55.013856Z",
     "shell.execute_reply": "2025-07-15T20:22:54.973927Z",
     "shell.execute_reply.started": "2025-07-15T20:22:31.046585Z"
    },
    "tags": []
   },
   "outputs": [
    {
     "data": {
      "application/vnd.jupyter.widget-view+json": {
       "model_id": "36c9dc9a4c3f4c218cc42448b49616ca",
       "version_major": 2,
       "version_minor": 0
      },
      "text/plain": [
       "VBox()"
      ]
     },
     "metadata": {},
     "output_type": "display_data"
    },
    {
     "data": {
      "application/vnd.jupyter.widget-view+json": {
       "model_id": "",
       "version_major": 2,
       "version_minor": 0
      },
      "text/plain": [
       "FloatProgress(value=0.0, bar_style='info', description='Progress:', layout=Layout(height='25px', width='50%'),…"
      ]
     },
     "metadata": {},
     "output_type": "display_data"
    }
   ],
   "source": [
    "# The standard approach with options (option(\"mergeSchema\", \"true\").option(\"recursiveFileLookup\", \"true\").schema(yellow_taxi_schema)) \n",
    "# didn't work cast parquet files to proper format so it was decided to use selectExpr.\n",
    "\n",
    "# SQL code to cast columns to proper type\n",
    "yellow_casted_columns = [\n",
    "    \"cast(VendorID as bigint) as VendorID\",\n",
    "    \"cast(tpep_pickup_datetime as timestamp) as tpep_pickup_datetime\",\n",
    "    \"cast(tpep_dropoff_datetime as timestamp) as tpep_dropoff_datetime\",\n",
    "    \"cast(passenger_count as bigint) as passenger_count\",\n",
    "    \"cast(trip_distance as double) as trip_distance\",\n",
    "    \"cast(RatecodeID as bigint) as RatecodeID\",\n",
    "    \"cast(store_and_fwd_flag as string) as store_and_fwd_flag\",\n",
    "    \"cast(PULocationID as bigint) as PULocationID\",\n",
    "    \"cast(DOLocationID as bigint) as DOLocationID\",\n",
    "    \"cast(payment_type as bigint) as payment_type\",\n",
    "    \"cast(fare_amount as double) as fare_amount\",\n",
    "    \"cast(extra as double) as extra\",\n",
    "    \"cast(mta_tax as double) as mta_tax\",\n",
    "    \"cast(tip_amount as double) as tip_amount\",\n",
    "    \"cast(tolls_amount as double) as tolls_amount\",\n",
    "    \"cast(improvement_surcharge as double) as improvement_surcharge\",\n",
    "    \"cast(total_amount as double) as total_amount\",\n",
    "    \"cast(congestion_surcharge as double) as congestion_surcharge\",\n",
    "    \"cast(airport_fee as double) as airport_fee\"\n",
    "]\n",
    "\n",
    "yellow_taxi_df = load_taxi_data(YELLOW_PREFIX, yellow_casted_columns)\n"
   ]
  },
  {
   "cell_type": "markdown",
   "metadata": {},
   "source": [
    "## Creating Green DF"
   ]
  },
  {
   "cell_type": "code",
   "execution_count": null,
   "metadata": {
    "execution": {
     "iopub.execute_input": "2025-07-15T20:23:24.751793Z",
     "iopub.status.busy": "2025-07-15T20:23:24.751397Z",
     "iopub.status.idle": "2025-07-15T20:23:46.687693Z",
     "shell.execute_reply": "2025-07-15T20:23:46.662467Z",
     "shell.execute_reply.started": "2025-07-15T20:23:24.751742Z"
    },
    "tags": []
   },
   "outputs": [
    {
     "data": {
      "application/vnd.jupyter.widget-view+json": {
       "model_id": "170153782a2946cea277768588d373e4",
       "version_major": 2,
       "version_minor": 0
      },
      "text/plain": [
       "VBox()"
      ]
     },
     "metadata": {},
     "output_type": "display_data"
    },
    {
     "data": {
      "application/vnd.jupyter.widget-view+json": {
       "model_id": "",
       "version_major": 2,
       "version_minor": 0
      },
      "text/plain": [
       "FloatProgress(value=0.0, bar_style='info', description='Progress:', layout=Layout(height='25px', width='50%'),…"
      ]
     },
     "metadata": {},
     "output_type": "display_data"
    }
   ],
   "source": [
    "# The standard approach with options (option(\"mergeSchema\", \"true\").option(\"recursiveFileLookup\", \"true\").schema(yellow_taxi_schema)) \n",
    "# didn't work cast parquet files to proper format so it was decided to use selectExpr.\n",
    "\n",
    "# SQL code to cast columns to proper type\n",
    "green_casted_columns = [\n",
    "    \"cast(VendorID as bigint) as VendorID\",\n",
    "    \"cast(lpep_pickup_datetime as timestamp) as lpep_pickup_datetime\",\n",
    "    \"cast(lpep_dropoff_datetime as timestamp) as lpep_dropoff_datetime\",\n",
    "    \"cast(passenger_count as bigint) as passenger_count\",\n",
    "    \"cast(trip_distance as double) as trip_distance\",\n",
    "    \"cast(RatecodeID as bigint) as RatecodeID\",\n",
    "    \"cast(store_and_fwd_flag as string) as store_and_fwd_flag\",\n",
    "    \"cast(PULocationID as bigint) as PULocationID\",\n",
    "    \"cast(DOLocationID as bigint) as DOLocationID\",\n",
    "    \"cast(payment_type as bigint) as payment_type\",\n",
    "    \"cast(fare_amount as double) as fare_amount\",\n",
    "    \"cast(extra as double) as extra\",\n",
    "    \"cast(mta_tax as double) as mta_tax\",\n",
    "    \"cast(tip_amount as double) as tip_amount\",\n",
    "    \"cast(tolls_amount as double) as tolls_amount\",\n",
    "    \"cast(improvement_surcharge as double) as improvement_surcharge\",\n",
    "    \"cast(total_amount as double) as total_amount\",\n",
    "    \"cast(congestion_surcharge as double) as congestion_surcharge\",\n",
    "    \"cast(ehail_fee as double) as ehail_fee\",\n",
    "    \"cast(trip_type as double) as trip_type\"\n",
    "]\n",
    "\n",
    "green_taxi_df = load_taxi_data(GREEN_PREFIX, green_casted_columns)"
   ]
  },
  {
   "cell_type": "markdown",
   "metadata": {},
   "source": [
    "## Create Zone Lookup DF"
   ]
  },
  {
   "cell_type": "code",
   "execution_count": 50,
   "metadata": {
    "execution": {
     "iopub.execute_input": "2025-07-15T20:23:52.262334Z",
     "iopub.status.busy": "2025-07-15T20:23:52.262060Z",
     "iopub.status.idle": "2025-07-15T20:23:53.018011Z",
     "shell.execute_reply": "2025-07-15T20:23:53.017260Z",
     "shell.execute_reply.started": "2025-07-15T20:23:52.262300Z"
    },
    "tags": []
   },
   "outputs": [
    {
     "data": {
      "application/vnd.jupyter.widget-view+json": {
       "model_id": "32315d271db144d6a96e25ea9e6619cd",
       "version_major": 2,
       "version_minor": 0
      },
      "text/plain": [
       "VBox()"
      ]
     },
     "metadata": {},
     "output_type": "display_data"
    },
    {
     "data": {
      "application/vnd.jupyter.widget-view+json": {
       "model_id": "",
       "version_major": 2,
       "version_minor": 0
      },
      "text/plain": [
       "FloatProgress(value=0.0, bar_style='info', description='Progress:', layout=Layout(height='25px', width='50%'),…"
      ]
     },
     "metadata": {},
     "output_type": "display_data"
    }
   ],
   "source": [
    "taxi_zone_lookup_df = spark.read.csv(TAXI_ZONE_LOOKUP_PATH, header=True) \\\n",
    "    .select(\n",
    "        F.col(\"LocationID\").cast(\"int\").alias(\"location_id\"),\n",
    "        F.col(\"Zone\").alias(\"zone\")\n",
    "    )"
   ]
  },
  {
   "cell_type": "markdown",
   "metadata": {
    "execution": {
     "iopub.execute_input": "2025-07-13T20:01:00.281991Z",
     "iopub.status.busy": "2025-07-13T20:01:00.281494Z",
     "iopub.status.idle": "2025-07-13T20:01:00.508750Z",
     "shell.execute_reply": "2025-07-13T20:01:00.508391Z",
     "shell.execute_reply.started": "2025-07-13T20:01:00.281973Z"
    },
    "executionRoleArn": "arn:aws:iam::554739427960:role/service-role/AmazonEMRStudio_RuntimeRole_1752423199458",
    "tags": []
   },
   "source": [
    "## Identifying different columns in data frames "
   ]
  },
  {
   "cell_type": "code",
   "execution_count": 54,
   "metadata": {
    "execution": {
     "iopub.execute_input": "2025-07-15T20:24:53.879677Z",
     "iopub.status.busy": "2025-07-15T20:24:53.879430Z",
     "iopub.status.idle": "2025-07-15T20:24:53.929726Z",
     "shell.execute_reply": "2025-07-15T20:24:53.921491Z",
     "shell.execute_reply.started": "2025-07-15T20:24:53.879649Z"
    },
    "tags": []
   },
   "outputs": [
    {
     "data": {
      "application/vnd.jupyter.widget-view+json": {
       "model_id": "de199cc6922b4cc08d9eacd984927035",
       "version_major": 2,
       "version_minor": 0
      },
      "text/plain": [
       "VBox()"
      ]
     },
     "metadata": {},
     "output_type": "display_data"
    },
    {
     "data": {
      "application/vnd.jupyter.widget-view+json": {
       "model_id": "",
       "version_major": 2,
       "version_minor": 0
      },
      "text/plain": [
       "FloatProgress(value=0.0, bar_style='info', description='Progress:', layout=Layout(height='25px', width='50%'),…"
      ]
     },
     "metadata": {},
     "output_type": "display_data"
    },
    {
     "name": "stdout",
     "output_type": "stream",
     "text": [
      "[]"
     ]
    }
   ],
   "source": [
    "# Checking if schema is similar in green and yellow DF\n",
    "\n",
    "yellow_schema = sorted([str(entry) for entry in yellow_taxi_df.schema.jsonValue()['fields']])\n",
    "green_schem = sorted([str(entry) for entry in green_taxi_df.schema.jsonValue()['fields']])\n",
    "diff = set(green_schem).symmetric_difference(set(yellow_schema))\n",
    "diff_column_names = [eval(d)[\"name\"] for d in list(diff)]\n",
    "print(diff_column_names)"
   ]
  },
  {
   "cell_type": "markdown",
   "metadata": {},
   "source": [
    "## Preparing green data frames for merging (columns allignment) "
   ]
  },
  {
   "cell_type": "code",
   "execution_count": 52,
   "metadata": {
    "execution": {
     "iopub.execute_input": "2025-07-15T20:24:42.496068Z",
     "iopub.status.busy": "2025-07-15T20:24:42.495774Z",
     "iopub.status.idle": "2025-07-15T20:24:42.741763Z",
     "shell.execute_reply": "2025-07-15T20:24:42.741076Z",
     "shell.execute_reply.started": "2025-07-15T20:24:42.496035Z"
    },
    "tags": []
   },
   "outputs": [
    {
     "data": {
      "application/vnd.jupyter.widget-view+json": {
       "model_id": "07f9710609e441aa8b6fe1a67fd7d3f0",
       "version_major": 2,
       "version_minor": 0
      },
      "text/plain": [
       "VBox()"
      ]
     },
     "metadata": {},
     "output_type": "display_data"
    },
    {
     "data": {
      "application/vnd.jupyter.widget-view+json": {
       "model_id": "",
       "version_major": 2,
       "version_minor": 0
      },
      "text/plain": [
       "FloatProgress(value=0.0, bar_style='info', description='Progress:', layout=Layout(height='25px', width='50%'),…"
      ]
     },
     "metadata": {},
     "output_type": "display_data"
    }
   ],
   "source": [
    "# Adding taxi_type and airport_fee columns\n",
    "green_taxi_df = green_taxi_df.withColumn(\"taxi_type\", F.lit(\"green\"))\n",
    "green_taxi_df = green_taxi_df.withColumn(\"airport_fee\", F.lit(None).cast(DoubleType()))\n",
    "\n",
    "# Aligning pickup_datetime and dropoff_datetime column names\n",
    "green_taxi_df = green_taxi_df.withColumnRenamed(\"lpep_pickup_datetime\", \"pickup_datetime\") \\\n",
    "                             .withColumnRenamed(\"lpep_dropoff_datetime\", \"dropoff_datetime\")\n"
   ]
  },
  {
   "cell_type": "markdown",
   "metadata": {},
   "source": [
    "## Preparing yellow data frames for merging (columns allignment) "
   ]
  },
  {
   "cell_type": "code",
   "execution_count": 53,
   "metadata": {
    "execution": {
     "iopub.execute_input": "2025-07-15T20:24:46.410906Z",
     "iopub.status.busy": "2025-07-15T20:24:46.410625Z",
     "iopub.status.idle": "2025-07-15T20:24:46.657522Z",
     "shell.execute_reply": "2025-07-15T20:24:46.656475Z",
     "shell.execute_reply.started": "2025-07-15T20:24:46.410872Z"
    },
    "tags": []
   },
   "outputs": [
    {
     "data": {
      "application/vnd.jupyter.widget-view+json": {
       "model_id": "62c07053b0ae4c20b745388a3ce51db4",
       "version_major": 2,
       "version_minor": 0
      },
      "text/plain": [
       "VBox()"
      ]
     },
     "metadata": {},
     "output_type": "display_data"
    },
    {
     "data": {
      "application/vnd.jupyter.widget-view+json": {
       "model_id": "",
       "version_major": 2,
       "version_minor": 0
      },
      "text/plain": [
       "FloatProgress(value=0.0, bar_style='info', description='Progress:', layout=Layout(height='25px', width='50%'),…"
      ]
     },
     "metadata": {},
     "output_type": "display_data"
    }
   ],
   "source": [
    "# Aligning pickup_datetime and dropoff_datetime column names\n",
    "yellow_taxi_df = yellow_taxi_df.withColumnRenamed(\"tpep_pickup_datetime\", \"pickup_datetime\") \\\n",
    "                             .withColumnRenamed(\"tpep_dropoff_datetime\", \"dropoff_datetime\")\n",
    "\n",
    "# Adding taxi_type, trip_type and ehail_fee columns\n",
    "yellow_taxi_df = yellow_taxi_df.withColumn(\"taxi_type\", F.lit(\"yellow\"))\n",
    "yellow_taxi_df = yellow_taxi_df.withColumn(\"trip_type\", F.lit(None).cast(DoubleType()))\n",
    "yellow_taxi_df = yellow_taxi_df.withColumn(\"ehail_fee\", F.lit(None).cast(DoubleType()))"
   ]
  },
  {
   "cell_type": "markdown",
   "metadata": {
    "execution": {
     "iopub.execute_input": "2025-07-13T20:29:59.355751Z",
     "iopub.status.busy": "2025-07-13T20:29:59.355437Z",
     "iopub.status.idle": "2025-07-13T20:30:00.840240Z",
     "shell.execute_reply": "2025-07-13T20:30:00.839874Z",
     "shell.execute_reply.started": "2025-07-13T20:29:59.355733Z"
    },
    "executionRoleArn": "arn:aws:iam::554739427960:role/service-role/AmazonEMRStudio_RuntimeRole_1752423199458",
    "tags": []
   },
   "source": [
    "## Union two data frames yellow_taxi_df and green_taxi_df"
   ]
  },
  {
   "cell_type": "code",
   "execution_count": null,
   "metadata": {
    "execution": {
     "iopub.execute_input": "2025-07-15T20:34:30.965104Z",
     "iopub.status.busy": "2025-07-15T20:34:30.964818Z",
     "iopub.status.idle": "2025-07-15T20:34:31.217259Z",
     "shell.execute_reply": "2025-07-15T20:34:31.216373Z",
     "shell.execute_reply.started": "2025-07-15T20:34:30.965073Z"
    },
    "tags": []
   },
   "outputs": [
    {
     "data": {
      "application/vnd.jupyter.widget-view+json": {
       "model_id": "074647c7c824452598223fce9506a0fb",
       "version_major": 2,
       "version_minor": 0
      },
      "text/plain": [
       "VBox()"
      ]
     },
     "metadata": {},
     "output_type": "display_data"
    },
    {
     "data": {
      "application/vnd.jupyter.widget-view+json": {
       "model_id": "",
       "version_major": 2,
       "version_minor": 0
      },
      "text/plain": [
       "FloatProgress(value=0.0, bar_style='info', description='Progress:', layout=Layout(height='25px', width='50%'),…"
      ]
     },
     "metadata": {},
     "output_type": "display_data"
    }
   ],
   "source": [
    "# Merging Yellow and Green DF into final DF\n",
    "\n",
    "raw_trips_df = green_taxi_df.unionByName(yellow_taxi_df)"
   ]
  },
  {
   "cell_type": "markdown",
   "metadata": {},
   "source": [
    "## Filterout anomalies (trip_distance < 0.1, fare_amount < 2, duration < 1 min)"
   ]
  },
  {
   "cell_type": "code",
   "execution_count": 77,
   "metadata": {
    "execution": {
     "iopub.execute_input": "2025-07-15T20:38:36.692189Z",
     "iopub.status.busy": "2025-07-15T20:38:36.691927Z",
     "iopub.status.idle": "2025-07-15T20:40:08.228351Z",
     "shell.execute_reply": "2025-07-15T20:40:08.227446Z",
     "shell.execute_reply.started": "2025-07-15T20:38:36.692156Z"
    },
    "tags": []
   },
   "outputs": [
    {
     "data": {
      "application/vnd.jupyter.widget-view+json": {
       "model_id": "47ea00b17f864115a61060cf640fbff6",
       "version_major": 2,
       "version_minor": 0
      },
      "text/plain": [
       "VBox()"
      ]
     },
     "metadata": {},
     "output_type": "display_data"
    },
    {
     "data": {
      "application/vnd.jupyter.widget-view+json": {
       "model_id": "",
       "version_major": 2,
       "version_minor": 0
      },
      "text/plain": [
       "FloatProgress(value=0.0, bar_style='info', description='Progress:', layout=Layout(height='25px', width='50%'),…"
      ]
     },
     "metadata": {},
     "output_type": "display_data"
    },
    {
     "name": "stdout",
     "output_type": "stream",
     "text": [
      "Filtered raws: 1551959148"
     ]
    }
   ],
   "source": [
    "filtered_trips_df = raw_trips_df.filter(F.col(\"trip_distance\") >= 0.1) \\\n",
    "                    .filter(F.col(\"fare_amount\") >= 2) \\\n",
    "                    .filter((F.col(\"dropoff_datetime\").cast(LongType()) - F.col(\"pickup_datetime\").cast(LongType())) >= 60)"
   ]
  },
  {
   "cell_type": "markdown",
   "metadata": {},
   "source": [
    "## Adding pickup_hour, pickup_day_of_week and duration_min columns"
   ]
  },
  {
   "cell_type": "code",
   "execution_count": 78,
   "metadata": {
    "execution": {
     "iopub.execute_input": "2025-07-15T20:40:41.465939Z",
     "iopub.status.busy": "2025-07-15T20:40:41.465699Z",
     "iopub.status.idle": "2025-07-15T20:40:41.712216Z",
     "shell.execute_reply": "2025-07-15T20:40:41.711496Z",
     "shell.execute_reply.started": "2025-07-15T20:40:41.465911Z"
    },
    "tags": []
   },
   "outputs": [
    {
     "data": {
      "application/vnd.jupyter.widget-view+json": {
       "model_id": "110a5d931c2444578550337b86ed86d7",
       "version_major": 2,
       "version_minor": 0
      },
      "text/plain": [
       "VBox()"
      ]
     },
     "metadata": {},
     "output_type": "display_data"
    },
    {
     "data": {
      "application/vnd.jupyter.widget-view+json": {
       "model_id": "",
       "version_major": 2,
       "version_minor": 0
      },
      "text/plain": [
       "FloatProgress(value=0.0, bar_style='info', description='Progress:', layout=Layout(height='25px', width='50%'),…"
      ]
     },
     "metadata": {},
     "output_type": "display_data"
    }
   ],
   "source": [
    "# Define the mapping using create_map\n",
    "week_day_map = F.create_map([\n",
    "    F.lit(1), F.lit(\"Sunday\"),\n",
    "    F.lit(2), F.lit(\"Monday\"),\n",
    "    F.lit(3), F.lit(\"Tuesday\"),\n",
    "    F.lit(4), F.lit(\"Wednesday\"),\n",
    "    F.lit(5), F.lit(\"Thursday\"),\n",
    "    F.lit(6), F.lit(\"Friday\"),\n",
    "    F.lit(7), F.lit(\"Saturday\"),\n",
    "])\n",
    "\n",
    "filtered_trips_df = filtered_trips_df.withColumn(\"pickup_hour\", F.hour(\"pickup_datetime\")) \\\n",
    "                                     .withColumn(\"pickup_day_of_week\", week_day_map[F.dayofweek(\"pickup_datetime\")]) \\\n",
    "                                     .withColumn(\"duration_min\", (F.round(F.col(\"dropoff_datetime\").cast(LongType()) - F.col(\"pickup_datetime\").cast(LongType()))/60).cast(IntegerType()))\n",
    "\n"
   ]
  },
  {
   "cell_type": "markdown",
   "metadata": {},
   "source": [
    "## Join taxi_zone_lookup_df with filtered_trips_df and add pickup_zone and dropoff_zone columns"
   ]
  },
  {
   "cell_type": "code",
   "execution_count": 79,
   "metadata": {
    "execution": {
     "iopub.execute_input": "2025-07-15T20:40:45.456779Z",
     "iopub.status.busy": "2025-07-15T20:40:45.456508Z",
     "iopub.status.idle": "2025-07-15T20:40:45.701355Z",
     "shell.execute_reply": "2025-07-15T20:40:45.700474Z",
     "shell.execute_reply.started": "2025-07-15T20:40:45.456744Z"
    },
    "tags": []
   },
   "outputs": [
    {
     "data": {
      "application/vnd.jupyter.widget-view+json": {
       "model_id": "bdcea70e50ed4031ad8b26cc23485e77",
       "version_major": 2,
       "version_minor": 0
      },
      "text/plain": [
       "VBox()"
      ]
     },
     "metadata": {},
     "output_type": "display_data"
    },
    {
     "data": {
      "application/vnd.jupyter.widget-view+json": {
       "model_id": "",
       "version_major": 2,
       "version_minor": 0
      },
      "text/plain": [
       "FloatProgress(value=0.0, bar_style='info', description='Progress:', layout=Layout(height='25px', width='50%'),…"
      ]
     },
     "metadata": {},
     "output_type": "display_data"
    }
   ],
   "source": [
    "full_filtered_trips_df = filtered_trips_df.join(taxi_zone_lookup_df, filtered_trips_df[\"PULocationID\"] == taxi_zone_lookup_df.location_id, \"left\") \\\n",
    "                                            .withColumn(\"pickup_zone\", F.when(F.col(\"zone\").isNull(), \"Unknown\").otherwise(F.col(\"zone\"))).drop(F.col(\"zone\"), F.col(\"location_id\")) \\\n",
    "                                            .join(taxi_zone_lookup_df, filtered_trips_df[\"DOLocationID\"] == taxi_zone_lookup_df.location_id, \"left\") \\\n",
    "                                            .withColumn(\"dropoff_zone\", F.when(F.col(\"zone\").isNull(), \"Unknown\").otherwise(F.col(\"zone\"))).drop(F.col(\"zone\"), F.col(\"location_id\"))"
   ]
  },
  {
   "cell_type": "markdown",
   "metadata": {},
   "source": [
    "# Завдання 3: Створення та агрегація фінального датафрейму zone_summary"
   ]
  },
  {
   "cell_type": "markdown",
   "metadata": {},
   "source": [
    "## Base summary that includes total_trips, avg_trip_distance, avg_total_amount, avg_tip_amount, max_trip_distance, min_tip_amount"
   ]
  },
  {
   "cell_type": "code",
   "execution_count": 87,
   "metadata": {
    "execution": {
     "iopub.execute_input": "2025-07-15T21:26:24.844388Z",
     "iopub.status.busy": "2025-07-15T21:26:24.844130Z",
     "iopub.status.idle": "2025-07-15T21:26:25.090234Z",
     "shell.execute_reply": "2025-07-15T21:26:25.089417Z",
     "shell.execute_reply.started": "2025-07-15T21:26:24.844358Z"
    },
    "tags": []
   },
   "outputs": [
    {
     "data": {
      "application/vnd.jupyter.widget-view+json": {
       "model_id": "e31b88fb76c840d89be0d77b57a00b90",
       "version_major": 2,
       "version_minor": 0
      },
      "text/plain": [
       "VBox()"
      ]
     },
     "metadata": {},
     "output_type": "display_data"
    },
    {
     "data": {
      "application/vnd.jupyter.widget-view+json": {
       "model_id": "",
       "version_major": 2,
       "version_minor": 0
      },
      "text/plain": [
       "FloatProgress(value=0.0, bar_style='info', description='Progress:', layout=Layout(height='25px', width='50%'),…"
      ]
     },
     "metadata": {},
     "output_type": "display_data"
    }
   ],
   "source": [
    "base_summary = full_filtered_trips_df.groupBy(\"pickup_zone\").agg(\n",
    "                                    F.count(\"*\").alias(\"total_trips\"),\n",
    "                                    F.avg(\"trip_distance\").alias(\"avg_trip_distance\"),\n",
    "                                    F.avg(\"total_amount\").alias(\"avg_total_amount\"),\n",
    "                                    F.avg(\"tip_amount\").alias(\"avg_tip_amount\"),\n",
    "                                    F.max(\"trip_distance\").alias(\"max_trip_distance\"),\n",
    "                                    F.min(\"tip_amount\").alias(\"min_tip_amount\"),\n",
    "                                    F.sum(F.when(F.col(\"taxi_type\") == \"yellow\", 1).otherwise(0)).alias(\"yellow_count\"),\n",
    "                                    F.sum(F.when(F.col(\"taxi_type\") == \"green\", 1).otherwise(0)).alias(\"green_count\")\n",
    "                               )"
   ]
  },
  {
   "cell_type": "markdown",
   "metadata": {},
   "source": [
    " ## Adding Yellow Share and Green Share and rounding the values"
   ]
  },
  {
   "cell_type": "code",
   "execution_count": 88,
   "metadata": {
    "execution": {
     "iopub.execute_input": "2025-07-15T21:26:29.235322Z",
     "iopub.status.busy": "2025-07-15T21:26:29.234856Z",
     "iopub.status.idle": "2025-07-15T21:29:09.166526Z",
     "shell.execute_reply": "2025-07-15T21:29:09.165743Z",
     "shell.execute_reply.started": "2025-07-15T21:26:29.235282Z"
    },
    "tags": []
   },
   "outputs": [
    {
     "data": {
      "application/vnd.jupyter.widget-view+json": {
       "model_id": "9cd7237f8f4a4017a2536cbbb80a880e",
       "version_major": 2,
       "version_minor": 0
      },
      "text/plain": [
       "VBox()"
      ]
     },
     "metadata": {},
     "output_type": "display_data"
    },
    {
     "data": {
      "application/vnd.jupyter.widget-view+json": {
       "model_id": "",
       "version_major": 2,
       "version_minor": 0
      },
      "text/plain": [
       "FloatProgress(value=0.0, bar_style='info', description='Progress:', layout=Layout(height='25px', width='50%'),…"
      ]
     },
     "metadata": {},
     "output_type": "display_data"
    },
    {
     "name": "stdout",
     "output_type": "stream",
     "text": [
      "+--------------------+-----------+-----------------+----------------+--------------+-----------------+--------------+------------+-----------+\n",
      "|         pickup_zone|total_trips|avg_trip_distance|avg_total_amount|avg_tip_amount|max_trip_distance|min_tip_amount|yellow_share|green_share|\n",
      "+--------------------+-----------+-----------------+----------------+--------------+-----------------+--------------+------------+-----------+\n",
      "|         Westerleigh|       1847|             8.61|           40.07|          2.72|            116.8|           0.0|        0.65|       0.35|\n",
      "|      Pelham Parkway|     107432|             15.5|           19.56|          0.63|        221944.04|           0.0|        0.18|       0.82|\n",
      "|           Rego Park|     772746|             5.03|           16.89|          0.91|        185845.97|           0.0|        0.18|       0.82|\n",
      "|   Kew Gardens Hills|      80940|            16.14|           23.28|          1.15|        215534.25|           0.0|        0.46|       0.54|\n",
      "|     Jackson Heights|    3046398|             3.69|           13.52|          0.59|        179356.87|           0.0|        0.26|       0.74|\n",
      "|      Yorkville West|   26372640|             5.73|           13.98|          1.57|     1.46800001E7|           0.0|         1.0|        0.0|\n",
      "|Stuy Town/Peter C...|    4318657|            10.69|           14.37|          1.62|        8000040.0|           0.0|         1.0|        0.0|\n",
      "|        Clinton Hill|    1941270|             5.03|           15.42|          1.45|         250051.0|           0.0|        0.36|       0.64|\n",
      "|   East Harlem South|   13501455|             3.37|           13.96|          1.22|         833180.0|         -0.07|        0.69|       0.31|\n",
      "|            Longwood|      85118|              9.9|            18.2|          0.45|        101165.19|           0.0|        0.19|       0.81|\n",
      "|           Hudson Sq|    8770933|             6.59|           15.78|          1.91|     1.46645031E7|           0.0|         1.0|        0.0|\n",
      "|Upper East Side N...|   52085561|             3.58|           13.29|          1.47|     1.18000052E7|         -4.42|         1.0|        0.0|\n",
      "|       Prospect Park|     184483|             6.82|           17.41|          1.68|         121606.3|          -0.1|        0.47|       0.53|\n",
      "|       East Elmhurst|     880210|             9.64|           43.77|           5.2|        175262.86|           0.0|        0.89|       0.11|\n",
      "|            Union Sq|   46777503|             4.25|           14.21|          1.67|     1.18000021E7|           0.0|         1.0|        0.0|\n",
      "|       South Jamaica|     153861|             26.0|           54.23|          4.61|        216764.76|           0.0|        0.74|       0.26|\n",
      "|   Rossville/Woodrow|        320|            22.32|           76.88|          3.92|            45.78|           0.0|        0.83|       0.17|\n",
      "|Downtown Brooklyn...|    3382881|             4.71|           17.84|          1.78|         450000.0|           0.0|        0.59|       0.41|\n",
      "|Saint George/New ...|       7582|            16.45|           27.11|          1.42|         61577.86|           0.0|        0.56|       0.44|\n",
      "|   East Harlem North|    9655033|             6.71|           13.64|          1.03|        8331800.0|           0.0|        0.51|       0.49|\n",
      "+--------------------+-----------+-----------------+----------------+--------------+-----------------+--------------+------------+-----------+\n",
      "only showing top 20 rows"
     ]
    }
   ],
   "source": [
    "\n",
    "\n",
    "base_summary = base_summary.withColumn(\"yellow_share\", F.col(\"yellow_count\") / F.col(\"total_trips\")) \\\n",
    "                            .withColumn(\"green_share\", F.col(\"green_count\") / F.col(\"total_trips\")) \\\n",
    "                            .drop(\"yellow_count\", \"green_count\")\n",
    "\n",
    "final_summary = base_summary.select(\n",
    "                                \"pickup_zone\",\n",
    "                                \"total_trips\",\n",
    "                                F.round(\"avg_trip_distance\", 2).alias(\"avg_trip_distance\"),\n",
    "                                F.round(\"avg_total_amount\", 2).alias(\"avg_total_amount\"),\n",
    "                                F.round(\"avg_tip_amount\", 2).alias(\"avg_tip_amount\"),\n",
    "                                F.round(\"max_trip_distance\", 2).alias(\"max_trip_distance\"),\n",
    "                                F.round(\"min_tip_amount\", 2).alias(\"min_tip_amount\"),\n",
    "                                F.round(\"yellow_share\", 2).alias(\"yellow_share\"),\n",
    "                                F.round(\"green_share\", 2).alias(\"green_share\")\n",
    "                            )\n",
    "\n",
    "\n",
    "final_summary.show()"
   ]
  },
  {
   "cell_type": "markdown",
   "metadata": {},
   "source": [
    "## Writing summary to s3"
   ]
  },
  {
   "cell_type": "code",
   "execution_count": 89,
   "metadata": {
    "execution": {
     "iopub.execute_input": "2025-07-15T21:30:07.946035Z",
     "iopub.status.busy": "2025-07-15T21:30:07.945791Z",
     "iopub.status.idle": "2025-07-15T21:32:47.869861Z",
     "shell.execute_reply": "2025-07-15T21:32:47.869104Z",
     "shell.execute_reply.started": "2025-07-15T21:30:07.946008Z"
    },
    "tags": []
   },
   "outputs": [
    {
     "data": {
      "application/vnd.jupyter.widget-view+json": {
       "model_id": "adb463fc78a8423d9165b86ad523cb7d",
       "version_major": 2,
       "version_minor": 0
      },
      "text/plain": [
       "VBox()"
      ]
     },
     "metadata": {},
     "output_type": "display_data"
    },
    {
     "data": {
      "application/vnd.jupyter.widget-view+json": {
       "model_id": "",
       "version_major": 2,
       "version_minor": 0
      },
      "text/plain": [
       "FloatProgress(value=0.0, bar_style='info', description='Progress:', layout=Layout(height='25px', width='50%'),…"
      ]
     },
     "metadata": {},
     "output_type": "display_data"
    }
   ],
   "source": [
    "final_summary.coalesce(1).write \\\n",
    "    .mode(\"overwrite\") \\\n",
    "    .parquet(ZONE_STATISTIC_HW_PATH)"
   ]
  },
  {
   "cell_type": "markdown",
   "metadata": {
    "execution": {
     "iopub.execute_input": "2025-07-15T15:37:03.085101Z",
     "iopub.status.busy": "2025-07-15T15:37:03.084832Z",
     "iopub.status.idle": "2025-07-15T15:37:59.187256Z",
     "shell.execute_reply": "2025-07-15T15:37:59.186725Z",
     "shell.execute_reply.started": "2025-07-15T15:37:03.085083Z"
    },
    "executionRoleArn": "arn:aws:iam::554739427960:role/service-role/AmazonEMRStudio_RuntimeRole_1752423199458",
    "tags": []
   },
   "source": [
    "# Завдання 4: Агрегація по днях тижня та зонах"
   ]
  },
  {
   "cell_type": "markdown",
   "metadata": {},
   "source": [
    "## Group by pickup_zone and pickup_day_of_week. Calculate high_fare_share"
   ]
  },
  {
   "cell_type": "code",
   "execution_count": 99,
   "metadata": {
    "execution": {
     "iopub.execute_input": "2025-07-15T22:04:43.217349Z",
     "iopub.status.busy": "2025-07-15T22:04:43.216917Z",
     "iopub.status.idle": "2025-07-15T22:07:37.262753Z",
     "shell.execute_reply": "2025-07-15T22:07:37.261971Z",
     "shell.execute_reply.started": "2025-07-15T22:04:43.217281Z"
    },
    "tags": []
   },
   "outputs": [
    {
     "data": {
      "application/vnd.jupyter.widget-view+json": {
       "model_id": "ee6632955eff4feb9712b1af2cefa624",
       "version_major": 2,
       "version_minor": 0
      },
      "text/plain": [
       "VBox()"
      ]
     },
     "metadata": {},
     "output_type": "display_data"
    },
    {
     "data": {
      "application/vnd.jupyter.widget-view+json": {
       "model_id": "",
       "version_major": 2,
       "version_minor": 0
      },
      "text/plain": [
       "FloatProgress(value=0.0, bar_style='info', description='Progress:', layout=Layout(height='25px', width='50%'),…"
      ]
     },
     "metadata": {},
     "output_type": "display_data"
    },
    {
     "name": "stdout",
     "output_type": "stream",
     "text": [
      "+--------------------+------------------+-----------+---------------+\n",
      "|         pickup_zone|pickup_day_of_week|total_trips|high_fare_share|\n",
      "+--------------------+------------------+-----------+---------------+\n",
      "|           Stapleton|         Wednesday|       1049|           0.22|\n",
      "|       Rockaway Park|         Wednesday|        949|           0.79|\n",
      "|             Bedford|            Monday|     162420|           0.07|\n",
      "|  Murray Hill-Queens|            Monday|       4317|           0.34|\n",
      "|             Astoria|           Tuesday|     713590|           0.04|\n",
      "|           Glen Oaks|            Monday|       2452|           0.51|\n",
      "|          Auburndale|            Friday|       3207|           0.24|\n",
      "|Forest Park/Highl...|         Wednesday|       1096|           0.24|\n",
      "|          Bronx Park|         Wednesday|       4190|           0.23|\n",
      "|Van Cortlandt Vil...|          Saturday|      19808|           0.12|\n",
      "|    Brooklyn Heights|           Tuesday|     473166|           0.07|\n",
      "| Lincoln Square West|            Sunday|    1952332|           0.03|\n",
      "|    Manhattan Valley|            Sunday|    1753785|           0.03|\n",
      "|    Roosevelt Island|            Monday|      12198|           0.12|\n",
      "|       Willets Point|           Tuesday|       2000|           0.49|\n",
      "|Van Cortlandt Vil...|            Friday|      20526|           0.12|\n",
      "|             Norwood|          Saturday|      23112|           0.13|\n",
      "|    Bensonhurst East|          Thursday|       7148|           0.35|\n",
      "|         Marble Hill|            Friday|      12593|           0.07|\n",
      "|      Outside of NYC|            Friday|      73740|           0.46|\n",
      "+--------------------+------------------+-----------+---------------+\n",
      "only showing top 20 rows"
     ]
    }
   ],
   "source": [
    "second_summary = full_filtered_trips_df.groupBy(\"pickup_zone\", \"pickup_day_of_week\").agg(\n",
    "                                    F.count(\"*\").alias(\"total_trips\"),\n",
    "                                    F.sum(F.when(F.col(\"fare_amount\") > 30, 1).otherwise(0)).alias(\"total_high_fares\")) \\\n",
    "                                    .withColumn(\"high_fare_share\", F.round(F.col(\"total_high_fares\") / F.col(\"total_trips\"), 2)) \\\n",
    "                                    .drop(\"total_high_fares\")\n",
    "second_summary.show()"
   ]
  },
  {
   "cell_type": "markdown",
   "metadata": {},
   "source": [
    "## Writing summary to s3"
   ]
  },
  {
   "cell_type": "code",
   "execution_count": 96,
   "metadata": {
    "execution": {
     "iopub.execute_input": "2025-07-15T21:58:35.899755Z",
     "iopub.status.busy": "2025-07-15T21:58:35.899407Z",
     "iopub.status.idle": "2025-07-15T22:00:37.631962Z",
     "shell.execute_reply": "2025-07-15T22:00:37.631139Z",
     "shell.execute_reply.started": "2025-07-15T21:58:35.899713Z"
    },
    "tags": []
   },
   "outputs": [
    {
     "data": {
      "application/vnd.jupyter.widget-view+json": {
       "model_id": "1e7b5ef7f3164224bef55166f6abb06c",
       "version_major": 2,
       "version_minor": 0
      },
      "text/plain": [
       "VBox()"
      ]
     },
     "metadata": {},
     "output_type": "display_data"
    },
    {
     "data": {
      "application/vnd.jupyter.widget-view+json": {
       "model_id": "",
       "version_major": 2,
       "version_minor": 0
      },
      "text/plain": [
       "FloatProgress(value=0.0, bar_style='info', description='Progress:', layout=Layout(height='25px', width='50%'),…"
      ]
     },
     "metadata": {},
     "output_type": "display_data"
    },
    {
     "name": "stdout",
     "output_type": "stream",
     "text": [
      "+-----------+------------------+-----------+----------------+-------------------+\n",
      "|pickup_zone|pickup_day_of_week|total_trips|total_high_fares|    high_fare_share|\n",
      "+-----------+------------------+-----------+----------------+-------------------+\n",
      "|  Stapleton|         Wednesday|       1049|             234|  0.223069590085796|\n",
      "|  Stapleton|            Friday|        925|             236|0.25513513513513514|\n",
      "|  Stapleton|            Sunday|        504|             218|0.43253968253968256|\n",
      "|  Stapleton|           Tuesday|        565|             213| 0.3769911504424779|\n",
      "|  Stapleton|            Monday|        840|             199| 0.2369047619047619|\n",
      "|  Stapleton|          Thursday|       1181|             242|0.20491109229466553|\n",
      "|  Stapleton|          Saturday|       1094|             254|0.23217550274223034|\n",
      "+-----------+------------------+-----------+----------------+-------------------+"
     ]
    }
   ],
   "source": [
    "second_summary.coalesce(1).write \\\n",
    "    .mode(\"overwrite\") \\\n",
    "    .parquet(ZONE_DAYS_STATISTIC_HW_PATH)"
   ]
  },
  {
   "cell_type": "code",
   "execution_count": null,
   "metadata": {},
   "outputs": [],
   "source": []
  }
 ],
 "metadata": {
  "kernelspec": {
   "display_name": "PySpark",
   "language": "python",
   "name": "pysparkkernel"
  },
  "language_info": {
   "codemirror_mode": {
    "name": "python",
    "version": 3
   },
   "file_extension": ".py",
   "mimetype": "text/x-python",
   "name": "pyspark",
   "pygments_lexer": "python3"
  }
 },
 "nbformat": 4,
 "nbformat_minor": 4
}
